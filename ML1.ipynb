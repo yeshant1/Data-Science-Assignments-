{
 "cells": [
  {
   "cell_type": "markdown",
   "id": "6f0c264c-17d2-44e3-a4b7-638704fbe330",
   "metadata": {},
   "source": [
    "Q1-\n",
    "Artificial Intelligence- It is a smart application that can perform its own task without any human intervention.\n",
    "Eg- Self Driving cars,Robots,Google assistant\n",
    "\n",
    "MAchine Learning  \n",
    "Machine Learning is a subset of AI that involves teaching machines to learn from data and make decisions or predictions based on that data. Instead of explicitly programming rules, ML algorithms use statistical techniques to learn patterns and make decisions.\n",
    "\n",
    "Example:\n",
    "Consider a spam email filter. Using machine learning, the filter can learn from thousands of emails labeled as spam or not spam. Over time, it identifies patterns (like keywords or sender behavior) to automatically classify new incoming emails as either spam or legitimate.\n",
    "\n",
    "Deep Learning (DL):\n",
    "Deep Learning is a specialized subset of machine learning inspired by the structure and function of the human brain—neural networks. DL algorithms attempt to model high-level abstractions in data by using multiple layers of processing units (neurons) to learn representations of data with multiple levels of abstraction.\n",
    "\n",
    "Example:\n",
    "Image recognition tasks often utilize deep learning. For instance, a deep learning model can be trained to recognize cats in images. By processing millions of cat images, the model learns hierarchical features (like edges, shapes, and fur textures) that help it accurately identify cats in new, unseen images."
   ]
  },
  {
   "cell_type": "markdown",
   "id": "18f93839-cbee-434b-93b6-974f8f0ca059",
   "metadata": {},
   "source": [
    "Q2: What is supervised learning? List some examples of supervised learning."
   ]
  },
  {
   "cell_type": "markdown",
   "id": "6df49a06-415d-4668-ab19-069932d7cf16",
   "metadata": {},
   "source": [
    "Supervised learning is a type of machine learning where the algorithm learns from labeled training data. In supervised learning, the training data includes both input data and corresponding correct output, allowing the algorithm to learn the mapping from input to output.\n",
    "eG- Linear Regression,Decision Tree,etc"
   ]
  },
  {
   "cell_type": "markdown",
   "id": "795d4205-e546-4c59-9120-101afa7de781",
   "metadata": {},
   "source": [
    "Q3: What is unsupervised learning? List some examples of unsupervised learning."
   ]
  },
  {
   "cell_type": "markdown",
   "id": "d6ac7f89-8fe9-4ac8-8e1b-63712a9c1fe1",
   "metadata": {},
   "source": [
    "Unsupervised learning is a type of machine learning where the algorithm learns patterns from unlabeled data. Unlike supervised learning, there are no predefined labels or correct outputs provided to the algorithm during training. The goal of unsupervised learning is often to discover hidden structures or patterns within the data.\n",
    "Eg- K Means , Apriori Algorithm"
   ]
  },
  {
   "cell_type": "markdown",
   "id": "cb9d4413-6bd1-4f08-b8b7-03d7703ee3a5",
   "metadata": {},
   "source": [
    "Q4: What is the difference between AI, ML, DL, and DS?\n"
   ]
  },
  {
   "cell_type": "markdown",
   "id": "54205f67-0ba3-49eb-969b-db55c7f22a09",
   "metadata": {},
   "source": [
    "AI (Artificial Intelligence) aims to mimic human intelligence in machines. ML (Machine Learning) teaches machines to learn from data without explicit programming. DL (Deep Learning) uses neural networks to learn hierarchical representations. DS (Data Science) extracts insights from data using scientific methods. AI focuses on intelligent behavior, ML on learning from data, DL on deep neural networks, and DS on extracting knowledge from data for decision-making across industries like healthcare and finance. Each field complements the others, advancing technology in automation, predictive analytics, and data-driven decision-making."
   ]
  },
  {
   "cell_type": "markdown",
   "id": "8e0211ea-3f1f-4e4d-81e7-47a2c5bf6a7f",
   "metadata": {},
   "source": [
    "Q5:\n",
    "Supervised learning uses labeled data for training, predicting outputs based on input-output pairs (e.g., regression, classification). Unsupervised learning uses unlabeled data to find patterns or groupings without predefined outcomes (e.g., clustering, dimensionality reduction). Semi-supervised learning combines labeled and unlabeled data, leveraging small labeled datasets with larger unlabeled datasets for training (e.g., combining clustering with classification). Each approach suits different tasks: supervised for precise predictions, unsupervised for exploring data structures, and semi-supervised for leveraging limited labeled data efficiently.\n",
    "\n",
    "Q6:\n",
    "In machine learning, the training set is used to train the model, the test set evaluates its performance on unseen data, and the validation set assesses model performance during training, tuning parameters, and preventing overfitting. Proper split ensures unbiased evaluation of the model's generalization ability (test set), helps fine-tune hyperparameters (validation set), and avoids overfitting by validating against unseen data (validation set), crucial for robust model deployment and accurate performance assessment.\n",
    "\n",
    "Q7:\n",
    "Unsupervised learning aids anomaly detection by identifying unusual patterns or outliers within data lacking predefined labels. Algorithms like clustering (finding data groups) and density estimation (detecting deviations from expected data distributions) can highlight anomalies. This approach is vital in various fields, from fraud detection in finance to fault detection in industrial systems, enhancing early warning systems and improving data integrity and security.\n",
    "\n",
    "Q8:\n",
    "Supervised Learning Algorithms: Examples include Linear Regression, Logistic Regression, Decision Trees, Random Forest, Support Vector Machines (SVM), and Neural Networks (NN).\n",
    "\n",
    "Unsupervised Learning Algorithms: Examples include K-means Clustering, Hierarchical Clustering, Principal Component Analysis (PCA), t-Distributed Stochastic Neighbor Embedding (t-SNE), and Association Rule Learning (e.g., Apriori Algorithm)."
   ]
  },
  {
   "cell_type": "code",
   "execution_count": null,
   "id": "149dc619-a777-40aa-9b77-cde601663749",
   "metadata": {},
   "outputs": [],
   "source": []
  }
 ],
 "metadata": {
  "kernelspec": {
   "display_name": "Python 3 (ipykernel)",
   "language": "python",
   "name": "python3"
  },
  "language_info": {
   "codemirror_mode": {
    "name": "ipython",
    "version": 3
   },
   "file_extension": ".py",
   "mimetype": "text/x-python",
   "name": "python",
   "nbconvert_exporter": "python",
   "pygments_lexer": "ipython3",
   "version": "3.10.11"
  }
 },
 "nbformat": 4,
 "nbformat_minor": 5
}
