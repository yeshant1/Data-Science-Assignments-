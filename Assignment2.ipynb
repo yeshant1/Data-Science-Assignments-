{
 "cells": [
  {
   "cell_type": "markdown",
   "id": "d5e6e74d-aaa3-447f-be17-e6036348b62d",
   "metadata": {},
   "source": [
    "Q1. How do you comment code in Python? What are the different types of comments?\n"
   ]
  },
  {
   "cell_type": "markdown",
   "id": "4800a249-9303-4a93-9329-4aa586fe87f0",
   "metadata": {},
   "source": [
    "Comments are non executable statements in a program. They are just added to describe the statements in the program code. Comments make the program easily readable and understandable by the programmer as well as users who are seeing the code. \n",
    "we can comment code by the two types:\n",
    "1- By using hash(#) sign - it is used to comment out the single line.\n",
    "2- Multiline comment {( '''    ''') OR ( \"\"\"    \"\"\")} - It is used to comment out the multi lines."
   ]
  },
  {
   "cell_type": "code",
   "execution_count": 1,
   "id": "af88ac8d-eb6d-4a8c-92c9-b21f4b530637",
   "metadata": {},
   "outputs": [],
   "source": [
    "# Hi My Name is ESHANT YADAV.\n"
   ]
  },
  {
   "cell_type": "code",
   "execution_count": 4,
   "id": "e2948c9b-a1c5-4b8f-ae11-2ef2bc525b71",
   "metadata": {},
   "outputs": [
    {
     "data": {
      "text/plain": [
       "' I am persuing Mca from LPU.\\nand I want to be a Data Scientist.\\nNow i am learning python from SUDHANSHU SIR.\\nTHANKYOU '"
      ]
     },
     "execution_count": 4,
     "metadata": {},
     "output_type": "execute_result"
    }
   ],
   "source": [
    "''' I am persuing Mca from LPU.\n",
    "and I want to be a Data Scientist.\n",
    "Now i am learning python from SUDHANSHU SIR.\n",
    "THANKYOU '''"
   ]
  },
  {
   "cell_type": "markdown",
   "id": "060ec230-3c71-421f-979e-3f7d33d3a016",
   "metadata": {},
   "source": [
    "Q2. What are variables in Python? How do you declare and assign values to variables?\n"
   ]
  },
  {
   "cell_type": "markdown",
   "id": "1b3eb3db-b9d8-4e11-bc88-3f0356980aba",
   "metadata": {},
   "source": [
    "Variables are reserved memory locations that stores values. Variables are nothing but it is just part of your computer's memory that can store any \n",
    "piece of information.\n",
    "We can declare by assign every variable a name which can be used to refer the value in the program.\n"
   ]
  },
  {
   "cell_type": "code",
   "execution_count": 5,
   "id": "9141af68-c6e6-4d22-a476-665a8bcb7b49",
   "metadata": {},
   "outputs": [
    {
     "name": "stdout",
     "output_type": "stream",
     "text": [
      "HI\n",
      "100\n",
      "12.34\n"
     ]
    }
   ],
   "source": [
    "val = \"HI\"\n",
    "print(val)\n",
    "val = 100\n",
    "print(val)\n",
    "val = 12.34\n",
    "print(val)"
   ]
  },
  {
   "cell_type": "markdown",
   "id": "ea61229d-0a4a-4728-9210-435581116e05",
   "metadata": {},
   "source": [
    "Q3. How do you convert one data type to another in Python?\n"
   ]
  },
  {
   "cell_type": "markdown",
   "id": "392b5dcb-a741-4306-b3c4-c577da0cd929",
   "metadata": {},
   "source": [
    "Data types are variables which can hold the different types of values.\n",
    "Data types are integer, string, float, boolean, etc. \n",
    "We can convert one data type to another by using type conversions."
   ]
  },
  {
   "cell_type": "code",
   "execution_count": 1,
   "id": "97e55729-c246-40ed-92e3-6c1750cd2b63",
   "metadata": {},
   "outputs": [],
   "source": [
    "str = \"1234\"\n",
    "int = int(str)"
   ]
  },
  {
   "cell_type": "code",
   "execution_count": 2,
   "id": "49573b0d-f820-4e23-9ac5-bf45cee37e96",
   "metadata": {},
   "outputs": [
    {
     "data": {
      "text/plain": [
       "1234"
      ]
     },
     "execution_count": 2,
     "metadata": {},
     "output_type": "execute_result"
    }
   ],
   "source": [
    "int\n"
   ]
  },
  {
   "cell_type": "markdown",
   "id": "f5b35650-6bd1-4e8a-9f01-317f865d2ea0",
   "metadata": {},
   "source": [
    "Q4. How do you write and execute a Python script from the command line?\n"
   ]
  },
  {
   "cell_type": "markdown",
   "id": "81df4741-5a60-4efb-9711-45f66575f507",
   "metadata": {},
   "source": [
    "It have following steps:\n",
    "\n",
    "1- open a text editor and make the python script after that save that script with .py extension \n",
    "\n",
    "2- now open the command line or terminal on your computer. \n",
    "\n",
    "in windows you can use the command prompt.\n",
    "\n",
    "3- navigate the script directory \n",
    "\n",
    "   in windows you can use cd command.\n",
    "   \n",
    "4- Run the script."
   ]
  },
  {
   "cell_type": "markdown",
   "id": "772d0adc-be71-4ac5-97b3-5cd30054f74a",
   "metadata": {},
   "source": [
    "Q5. Given a list my_list = [1, 2, 3, 4, 5], write the code to slice the list and obtain the sub-list [2, 3].\n"
   ]
  },
  {
   "cell_type": "code",
   "execution_count": 3,
   "id": "20a7deed-f0e7-465f-99c7-45c32b6a5076",
   "metadata": {},
   "outputs": [],
   "source": [
    "my_list = [1,2,3,4,5]"
   ]
  },
  {
   "cell_type": "code",
   "execution_count": 4,
   "id": "c3b5e946-6d4d-4107-8d0b-cae61655504f",
   "metadata": {},
   "outputs": [
    {
     "data": {
      "text/plain": [
       "[1, 2, 3, 4, 5]"
      ]
     },
     "execution_count": 4,
     "metadata": {},
     "output_type": "execute_result"
    }
   ],
   "source": [
    "my_list"
   ]
  },
  {
   "cell_type": "code",
   "execution_count": 5,
   "id": "957696d9-68fc-410b-a58a-0f4b38bb9ee4",
   "metadata": {},
   "outputs": [
    {
     "data": {
      "text/plain": [
       "[2, 3]"
      ]
     },
     "execution_count": 5,
     "metadata": {},
     "output_type": "execute_result"
    }
   ],
   "source": [
    "my_list[1:3]"
   ]
  },
  {
   "cell_type": "markdown",
   "id": "fab082d4-aa94-4ac9-a6b4-b36fc4abf727",
   "metadata": {},
   "source": [
    "Q6. What is a complex number in mathematics, and how is it represented in Python?\n",
    "\n"
   ]
  },
  {
   "cell_type": "markdown",
   "id": "16743b01-01f9-41ba-a767-b7d24e122fa5",
   "metadata": {},
   "source": [
    "Complex number is the number which has the combination of both real and complex part.\n",
    "\n",
    "in mathematics a complex number is write in the syntax a+bi: a is the real, b is the imaginary part and i is the iota\n",
    "but in python it is represented like a + bj."
   ]
  },
  {
   "cell_type": "code",
   "execution_count": 6,
   "id": "9594964a-c7f5-46ca-b780-f92f51e3485d",
   "metadata": {},
   "outputs": [],
   "source": [
    "c = 4 + 5j"
   ]
  },
  {
   "cell_type": "code",
   "execution_count": 8,
   "id": "ee51809e-6f9a-47b3-9aa8-b0dc41f067c6",
   "metadata": {},
   "outputs": [
    {
     "data": {
      "text/plain": [
       "4.0"
      ]
     },
     "execution_count": 8,
     "metadata": {},
     "output_type": "execute_result"
    }
   ],
   "source": [
    "c.real"
   ]
  },
  {
   "cell_type": "code",
   "execution_count": 9,
   "id": "17d4ca3e-2286-4fc4-8183-b543d3fc37f5",
   "metadata": {},
   "outputs": [
    {
     "data": {
      "text/plain": [
       "5.0"
      ]
     },
     "execution_count": 9,
     "metadata": {},
     "output_type": "execute_result"
    }
   ],
   "source": [
    "c.imag"
   ]
  },
  {
   "cell_type": "markdown",
   "id": "8f82e830-b967-48ca-aae2-386b2ec6d976",
   "metadata": {},
   "source": [
    "Q7. What is the correct way to declare a variable named age and assign the value 25 to it?\n"
   ]
  },
  {
   "cell_type": "code",
   "execution_count": 10,
   "id": "fb30eeec-414e-4d2f-a1dc-8255317aee2f",
   "metadata": {},
   "outputs": [],
   "source": [
    "age = 25"
   ]
  },
  {
   "cell_type": "markdown",
   "id": "c448c158-6183-4ad8-8ae1-b93d4019ccb1",
   "metadata": {},
   "source": [
    "i declared the variable name age and assigned the value 25 to it."
   ]
  },
  {
   "cell_type": "markdown",
   "id": "2664e7d0-322f-4806-a923-e693039959b3",
   "metadata": {},
   "source": [
    "Q8. Declare a variable named price and assign the value 9.99 to it. What data type does this variable\n",
    "belong to?\n"
   ]
  },
  {
   "cell_type": "code",
   "execution_count": 11,
   "id": "c2c3f066-0a89-45de-a1c5-f39c27aba053",
   "metadata": {},
   "outputs": [],
   "source": [
    "price  = 9.99"
   ]
  },
  {
   "cell_type": "code",
   "execution_count": 12,
   "id": "c912fbf4-640a-439a-92fe-311d2c891269",
   "metadata": {},
   "outputs": [
    {
     "data": {
      "text/plain": [
       "float"
      ]
     },
     "execution_count": 12,
     "metadata": {},
     "output_type": "execute_result"
    }
   ],
   "source": [
    "type(price)"
   ]
  },
  {
   "cell_type": "markdown",
   "id": "c812ab0b-4aa3-4482-917c-b7b46ad2451b",
   "metadata": {},
   "source": [
    "Q9. Create a variable named name and assign your full name to it as a string. How would you print the\n",
    "value of this variable?\n"
   ]
  },
  {
   "cell_type": "code",
   "execution_count": 13,
   "id": "25da02c9-180c-4e3d-ba93-08e823871c26",
   "metadata": {},
   "outputs": [],
   "source": [
    "name = \"ESHANT YADAV\""
   ]
  },
  {
   "cell_type": "code",
   "execution_count": 14,
   "id": "7fed978a-cf26-492a-a8bf-5e9a2ec0e8a6",
   "metadata": {},
   "outputs": [
    {
     "data": {
      "text/plain": [
       "str"
      ]
     },
     "execution_count": 14,
     "metadata": {},
     "output_type": "execute_result"
    }
   ],
   "source": [
    "type(name)"
   ]
  },
  {
   "cell_type": "code",
   "execution_count": 15,
   "id": "57df17d0-49f1-470a-ba4d-24d3f0c7d914",
   "metadata": {},
   "outputs": [
    {
     "data": {
      "text/plain": [
       "'ESHANT YADAV'"
      ]
     },
     "execution_count": 15,
     "metadata": {},
     "output_type": "execute_result"
    }
   ],
   "source": [
    "name"
   ]
  },
  {
   "cell_type": "markdown",
   "id": "6d1509f5-d84a-4887-9001-56fe125fa13a",
   "metadata": {},
   "source": [
    "Q10. Given the string \"Hello, World!\", extract the substring \"World\".\n"
   ]
  },
  {
   "cell_type": "code",
   "execution_count": 16,
   "id": "572a858d-ce0a-43b8-b7d1-d123cbed3016",
   "metadata": {},
   "outputs": [],
   "source": [
    "str = \"Hello, World!\""
   ]
  },
  {
   "cell_type": "code",
   "execution_count": 18,
   "id": "ba0aae4c-72c8-45fb-a0dd-9c99605e74ce",
   "metadata": {},
   "outputs": [
    {
     "data": {
      "text/plain": [
       "'World!'"
      ]
     },
     "execution_count": 18,
     "metadata": {},
     "output_type": "execute_result"
    }
   ],
   "source": [
    "str[7:14]"
   ]
  },
  {
   "cell_type": "code",
   "execution_count": null,
   "id": "ce2790d1-6f2b-4552-9f64-36397c6753db",
   "metadata": {},
   "outputs": [],
   "source": []
  }
 ],
 "metadata": {
  "kernelspec": {
   "display_name": "Python 3 (ipykernel)",
   "language": "python",
   "name": "python3"
  },
  "language_info": {
   "codemirror_mode": {
    "name": "ipython",
    "version": 3
   },
   "file_extension": ".py",
   "mimetype": "text/x-python",
   "name": "python",
   "nbconvert_exporter": "python",
   "pygments_lexer": "ipython3",
   "version": "3.10.8"
  }
 },
 "nbformat": 4,
 "nbformat_minor": 5
}
