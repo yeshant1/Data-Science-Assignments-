{
 "cells": [
  {
   "cell_type": "markdown",
   "id": "9ed38c9b-4196-4d4a-93f3-a681c9fda340",
   "metadata": {},
   "source": [
    "1 - Mean , Mode , Median"
   ]
  },
  {
   "cell_type": "markdown",
   "id": "6370430d-a83f-4aed-855f-3919c2e4560c",
   "metadata": {},
   "source": [
    "2 - Mean: The arithmetic average of a set of values calculated by dividing the sum of all values by the number of values.\n",
    "\n",
    "Median: The middle value in a sorted, ascending or descending, list of numbers. If there's an even number of values, it's the average of the two middle numbers.\n",
    "\n",
    "Mode: The value that appears most frequently in a dataset. There can be one mode (unimodal), more than one mode (bimodal, trimodal, etc.), or no mode (when all values are equally frequent)."
   ]
  },
  {
   "cell_type": "markdown",
   "id": "57b05ba6-d9c7-4a63-9f02-c0d53e74e521",
   "metadata": {},
   "source": [
    "3 - Mean: \n",
    "171.83\n",
    "Median: \n",
    "177\n",
    "Mode: \n",
    "178"
   ]
  },
  {
   "cell_type": "code",
   "execution_count": 7,
   "id": "eceaf72b-14d0-4d71-848a-68cd6f64b1ce",
   "metadata": {},
   "outputs": [
    {
     "data": {
      "text/plain": [
       "[178,\n",
       " 177,\n",
       " 176,\n",
       " 177,\n",
       " 178.2,\n",
       " 178,\n",
       " 175,\n",
       " 179,\n",
       " 180,\n",
       " 175,\n",
       " 178.9,\n",
       " 176.2,\n",
       " 177,\n",
       " 172.5,\n",
       " 178,\n",
       " 176.5]"
      ]
     },
     "execution_count": 7,
     "metadata": {},
     "output_type": "execute_result"
    }
   ],
   "source": [
    "#Q4. Find the standard deviation for the given data:\n",
    "[178,177,176,177,178.2,178,175,179,180,175,178.9,176.2,177,172.5,178,176.5]"
   ]
  },
  {
   "cell_type": "markdown",
   "id": "a26e6d5b-f417-4bb2-9835-ff801dec09da",
   "metadata": {},
   "source": [
    "# std  =  sqrt(variance)\n",
    "Standard deviation= \n",
    "Variance = 27.38 ≈5.23\n"
   ]
  },
  {
   "cell_type": "markdown",
   "id": "7f0b7a52-593a-4bff-ad83-afd9d98ba7d1",
   "metadata": {},
   "source": [
    " Q5. How are measures of dispersion such as range, variance, and standard deviation used to describe\n",
    "the spread of a dataset? Provide an example."
   ]
  },
  {
   "cell_type": "markdown",
   "id": "d8e82e85-46f5-4832-912c-2495c731337b",
   "metadata": {},
   "source": [
    "Range: This is the simplest measure of dispersion and represents the difference between the maximum and minimum values in the dataset. It gives a rough idea of the spread but is sensitive to outliers.\n",
    "Variance: This measures how much the values in the dataset vary from the mean (average) of the dataset. It considers all data points and gives a sense of the overall variability.\n",
    "Standard Deviation: This is the square root of the variance and provides a measure of the average amount of variation or dispersion of data points from the mean. It is widely used because it's in the same units as the data, making it easier to interpret.\n",
    "\n",
    "Example: Using the calculated variance:\n",
    "\n",
    "Standard deviation = sqrt(variance)\n",
    "​\n",
    "\n"
   ]
  },
  {
   "cell_type": "markdown",
   "id": "6d4a8f86-135b-4385-822e-7d5d348eb53f",
   "metadata": {},
   "source": [
    "#Suppose we have daily sales data (in thousands of dollars) for a retail store over a week:\n",
    "\n",
    "{35,42,38,30,45,50,48}"
   ]
  },
  {
   "cell_type": "markdown",
   "id": "2e944da0-4cd1-40e7-b00e-61a049f193d2",
   "metadata": {},
   "source": [
    "Range = 20 \n",
    "Variance = 118.12\n",
    "std = 10.87"
   ]
  },
  {
   "cell_type": "markdown",
   "id": "80da986f-208e-4ea4-acdb-a40fb2ddfe1e",
   "metadata": {},
   "source": [
    "Q6. What is a Venn diagram?"
   ]
  },
  {
   "cell_type": "markdown",
   "id": "3bb330e8-ea6b-405e-aaa5-17f9d1eb7014",
   "metadata": {},
   "source": [
    "A Venn diagram is a graphical representation used to visually show the relationships between sets of elements. It consists of overlapping circles or other shapes, where each circle represents a set and the overlap represents intersections between those sets. The primary purpose of a Venn diagram is to illustrate the logical relationships between different sets, showing which elements are shared or exclusive to each set and how they overlap."
   ]
  },
  {
   "cell_type": "markdown",
   "id": "90b70605-3dba-4efa-967c-98f1a754c310",
   "metadata": {},
   "source": [
    "Q7. For the two given sets A = (2,3,4,5,6,7) & B = (0,2,6,8,10). Find:\n",
    "(i) A and B\n",
    "(ii) A ⋃ B"
   ]
  },
  {
   "cell_type": "markdown",
   "id": "c3f0ad59-bffb-44cc-b741-34b80aa2fe10",
   "metadata": {},
   "source": [
    "(i) A ∩ B = {2, 6}\n",
    "(ii) A ⋃ B = {0, 2, 3, 4, 5, 6, 7, 8, 10}"
   ]
  },
  {
   "cell_type": "markdown",
   "id": "47515c29-8d7d-4242-8bd9-99336cd3a34a",
   "metadata": {},
   "source": [
    "Q8. What do you understand about skewness in data?\n"
   ]
  },
  {
   "cell_type": "markdown",
   "id": "fd53fa07-8427-465e-b9bf-ba3d234f1f76",
   "metadata": {},
   "source": [
    "Skewness measures the degree and direction of asymmetry in the data distribution. It indicates whether the data points are concentrated more on one side of the mean compared to the other."
   ]
  },
  {
   "cell_type": "markdown",
   "id": "7fdfb951-5163-4766-8d7b-f1b9133ca0df",
   "metadata": {},
   "source": [
    "Q9. If a data is right skewed then what will be the position of median with respect to mean?"
   ]
  },
  {
   "cell_type": "markdown",
   "id": "009e28d5-8d03-44e6-aa61-1f7bdf9b04fc",
   "metadata": {},
   "source": [
    "In a right-skewed distribution, also known as positively skewed distribution, the tail of the distribution extends to the right (higher values), while most of the data points cluster to the left (lower values) of the mean\n",
    "\n",
    "Mean > Median "
   ]
  },
  {
   "cell_type": "markdown",
   "id": "eb5232c9-da7e-4409-bc86-538f7604747e",
   "metadata": {},
   "source": [
    "Q10. Explain the difference between covariance and correlation. How are these measures used in\n",
    "statistical analysis?"
   ]
  },
  {
   "cell_type": "markdown",
   "id": "fca93fbb-3d3b-4e62-9784-e7cadbb57daf",
   "metadata": {},
   "source": [
    " Covariance measures the degree to which two variables vary together. It indicates the direction of the linear relationship between variables.\n",
    "\n",
    "Correlation measures both the strength and direction of the linear relationship between two variables. It is a standardized measure, meaning it is dimensionless and ranges from -1 to 1.\n",
    " "
   ]
  },
  {
   "cell_type": "markdown",
   "id": "4191fe7e-0258-4663-b8c4-6a7edd60b3b5",
   "metadata": {},
   "source": [
    "Q11. What is the formula for calculating the sample mean? Provide an example calculation for a\n",
    "dataset."
   ]
  },
  {
   "cell_type": "markdown",
   "id": "715536cc-c086-450f-98eb-2f91590c6187",
   "metadata": {},
   "source": [
    "Q12. For a normal distribution data what is the relationship between its measure of central tendency?"
   ]
  },
  {
   "cell_type": "markdown",
   "id": "a39d77cf-aa8b-4b25-be89-8034baab437e",
   "metadata": {},
   "source": [
    "The mean, median, and mode are all equal.\n",
    "They are located at the center of the distribution, reflecting its symmetric nature.\n",
    "This equality and central location are key characteristics of the normal distribution, making it a highly studied and predictable type of distribution in statistics."
   ]
  },
  {
   "cell_type": "markdown",
   "id": "477b1788-e7c3-46b6-b4b5-70513c871758",
   "metadata": {},
   "source": [
    "Q13. How is covariance different from correlation?"
   ]
  },
  {
   "cell_type": "markdown",
   "id": "41ff87e1-c9d9-4624-ab3f-e469500a853c",
   "metadata": {
    "jupyter": {
     "source_hidden": true
    }
   },
   "source": [
    " correlation provides a standardized measure that incorporates both direction and strength of the relationship, whereas covariance only indicates the directional relationship between variables. Correlation is therefore more widely used in statistical analysis for its interpretability and standardization.\n",
    "\n"
   ]
  },
  {
   "cell_type": "markdown",
   "id": "030cf1b9-1cdd-4fbe-948e-a540117362ef",
   "metadata": {},
   "source": [
    "Q14. How do outliers affect measures of central tendency and dispersion? Provide an example."
   ]
  },
  {
   "cell_type": "markdown",
   "id": "ae9cabe0-c2d3-4207-87b5-6d7cff436da9",
   "metadata": {},
   "source": [
    "Effects on Measures of Central Tendency:\n",
    "\n",
    "Mean:\n",
    "\n",
    "Outliers can pull the mean towards their extreme values. A single outlier with a very large or very small value can distort the mean significantly.\n",
    "Example: Consider a dataset of salaries in a company where most employees earn between $40,000 and $60,000 annually, but the CEO's salary is $10,000,000. The mean salary would be greatly influenced by this outlier.\n",
    "Median:\n",
    "\n",
    "The median is less affected by outliers compared to the mean because it is not influenced by extreme values; it represents the middle value when data is sorted.\n",
    "Example: In the same salary dataset, the median salary would likely be within the typical range ($40,000 to $60,000), unaffected by the CEO's outlier salary.\n",
    "Mode:\n",
    "\n",
    "Outliers generally do not affect the mode since it represents the most frequently occurring value(s) in the dataset.\n",
    "Example: If most salaries are clustered around $50,000 and $55,000, the mode would reflect these values regardless of outliers.\n",
    "Effects on Measures of Dispersion:\n",
    "\n",
    "Range:\n",
    "\n",
    "The range can be greatly affected by outliers because it is sensitive to extreme values. The presence of outliers can expand the range significantly.\n",
    "Example: In a dataset of test scores where most scores range from 60 to 90, a single score of 20 or 100 would increase the range considerably.\n",
    "Variance and Standard Deviation:\n",
    "\n",
    "Variance and standard deviation are influenced by the spread of data points around the mean. Outliers increase the variability, thus increasing variance and standard deviation.\n",
    "Example: In a dataset of daily temperatures where most values cluster around 25°C to 30°C, a day with a temperature of 40°C would increase both the variance and standard deviation."
   ]
  },
  {
   "cell_type": "code",
   "execution_count": null,
   "id": "83043858-658a-438d-b454-38c0837eb44b",
   "metadata": {},
   "outputs": [],
   "source": []
  }
 ],
 "metadata": {
  "kernelspec": {
   "display_name": "Python 3 (ipykernel)",
   "language": "python",
   "name": "python3"
  },
  "language_info": {
   "codemirror_mode": {
    "name": "ipython",
    "version": 3
   },
   "file_extension": ".py",
   "mimetype": "text/x-python",
   "name": "python",
   "nbconvert_exporter": "python",
   "pygments_lexer": "ipython3",
   "version": "3.10.11"
  }
 },
 "nbformat": 4,
 "nbformat_minor": 5
}
