{
 "cells": [
  {
   "cell_type": "markdown",
   "id": "534bc255-b2fe-4a91-94e2-8e9a88b69f7e",
   "metadata": {},
   "source": [
    "Q1. Which keyword is used to create a function? Create a function to return a list of odd numbers in the\n",
    "range of 1 to 25."
   ]
  },
  {
   "cell_type": "markdown",
   "id": "7575d7de-98ce-410f-870e-4e4701e571d2",
   "metadata": {},
   "source": [
    "The keyword which is used to create a function is - def .\n",
    "\n",
    "syntax :  def function_name()\n"
   ]
  },
  {
   "cell_type": "code",
   "execution_count": 21,
   "id": "9df24e2c-4ed1-4abf-b54f-fa81080978d2",
   "metadata": {},
   "outputs": [],
   "source": [
    "def func1():\n",
    "    l1 = []\n",
    "    for i in range(1,26):\n",
    "        if i % 2 != 0:\n",
    "         l1.append(i)\n",
    "    return l1"
   ]
  },
  {
   "cell_type": "code",
   "execution_count": 22,
   "id": "babd2978-777f-462b-9e7a-daf8e2cec83f",
   "metadata": {},
   "outputs": [
    {
     "data": {
      "text/plain": [
       "[1, 3, 5, 7, 9, 11, 13, 15, 17, 19, 21, 23, 25]"
      ]
     },
     "execution_count": 22,
     "metadata": {},
     "output_type": "execute_result"
    }
   ],
   "source": [
    "func1()"
   ]
  },
  {
   "cell_type": "markdown",
   "id": "bdef4c46-2139-4d52-9010-5b6406273fbd",
   "metadata": {},
   "source": [
    "Q2. Why *args and **kwargs is used in some functions? Create a function each for *args and **kwargs\n",
    "to demonstrate their use."
   ]
  },
  {
   "cell_type": "markdown",
   "id": "9fba5e50-2d6c-48bf-8504-e1e004a71d47",
   "metadata": {},
   "source": [
    "The special syntax *args in function defintions in python is used to pass a variable number of arguments to a function.It is used to pass a non- keyworded, variable-length argument list. \n",
    "It keeps the data in the form of tuples.\n"
   ]
  },
  {
   "cell_type": "code",
   "execution_count": 24,
   "id": "31f4bb05-5b2e-4702-82b1-aa1e1a18bf40",
   "metadata": {},
   "outputs": [],
   "source": [
    "\n",
    "def func2(*args):\n",
    "    return args"
   ]
  },
  {
   "cell_type": "code",
   "execution_count": 25,
   "id": "cfdb4c2e-0b1d-4139-87b0-a1afe025508a",
   "metadata": {},
   "outputs": [
    {
     "data": {
      "text/plain": [
       "('a', 1, 2, 3, 'cool')"
      ]
     },
     "execution_count": 25,
     "metadata": {},
     "output_type": "execute_result"
    }
   ],
   "source": [
    "func2(\"a\",1,2,3,\"cool\")"
   ]
  },
  {
   "cell_type": "markdown",
   "id": "281e6543-5257-4498-9b13-1f0032d78c0c",
   "metadata": {},
   "source": [
    "*kwargs is used to pass a keyworded,variable-length argument list.\n",
    "It stores the data in the form of dictionary . It takes the input always in the form of key-value pair.\n"
   ]
  },
  {
   "cell_type": "code",
   "execution_count": 1,
   "id": "90b98166-9f3d-4b73-ad61-a79421b3ffeb",
   "metadata": {},
   "outputs": [],
   "source": [
    "def func3(**kwargs):\n",
    "    return kwargs"
   ]
  },
  {
   "cell_type": "code",
   "execution_count": 2,
   "id": "692027cf-16b4-4da8-8b0b-cc6c5936ee99",
   "metadata": {},
   "outputs": [
    {
     "data": {
      "text/plain": [
       "dict"
      ]
     },
     "execution_count": 2,
     "metadata": {},
     "output_type": "execute_result"
    }
   ],
   "source": [
    "type(func3())"
   ]
  },
  {
   "cell_type": "code",
   "execution_count": 3,
   "id": "7a01928c-a48f-4c45-ac52-a8597423c8cd",
   "metadata": {},
   "outputs": [
    {
     "data": {
      "text/plain": [
       "{'a': 1, 'b': 'Cool', 'c': 'Eshant', 'd': 0.986}"
      ]
     },
     "execution_count": 3,
     "metadata": {},
     "output_type": "execute_result"
    }
   ],
   "source": [
    "func3(a = 1, b = 'Cool' , c = \"Eshant\" , d = 0.986)"
   ]
  },
  {
   "cell_type": "markdown",
   "id": "c3a408a7-f3e9-4408-b604-0572fa1e4a96",
   "metadata": {},
   "source": [
    "Q3. What is an iterator in python? Name the method used to initialise the iterator object and the method\n",
    "used for iteration. Use these methods to print the first five elements of the given list [2, 4, 6, 8, 10, 12, 14,\n",
    "16, 18, 20]."
   ]
  },
  {
   "cell_type": "markdown",
   "id": "8994a549-53d9-47b6-8f4b-72d32ab16ed8",
   "metadata": {},
   "source": [
    "Iterator is an object that represents a stream of data, allowing you to iterate over elements one at a time. There are two methods - iter() -> it is used to initialize the iterator object and - next() -> it is used for iteration,returning the next element in the sequence."
   ]
  },
  {
   "cell_type": "code",
   "execution_count": 4,
   "id": "a579e54d-6dfc-42cf-a4a5-a6191661eeb0",
   "metadata": {},
   "outputs": [],
   "source": [
    "l = [2,4,6,8,10,12,14,16,18,20]"
   ]
  },
  {
   "cell_type": "code",
   "execution_count": 5,
   "id": "3566f17f-de7f-4abd-97d4-d637869047b7",
   "metadata": {},
   "outputs": [],
   "source": [
    "s = iter(l)"
   ]
  },
  {
   "cell_type": "code",
   "execution_count": 7,
   "id": "02c8894f-df2a-49d0-bca4-5a3daba715ff",
   "metadata": {},
   "outputs": [
    {
     "name": "stdout",
     "output_type": "stream",
     "text": [
      "2\n",
      "4\n",
      "6\n",
      "8\n",
      "10\n"
     ]
    }
   ],
   "source": [
    "for i in range(5):\n",
    "    element=next(s)\n",
    "    print(element)"
   ]
  },
  {
   "cell_type": "markdown",
   "id": "4d9e3ea9-aebc-4016-9e4f-ccf413826397",
   "metadata": {},
   "source": [
    "Q4. What is a generator function in python? Why yield keyword is used? Give an example of a generator\n",
    "function.\n"
   ]
  },
  {
   "cell_type": "markdown",
   "id": "f6f8be20-238f-408a-aba7-63f1b2cd40af",
   "metadata": {},
   "source": [
    "Generator function is used to give/generate one by one item continuously without holding everything into a memory.Yield is a special reserved keyword which helps to make the generator function.This is useful when dealing with large datasets or sequences , list ,etc."
   ]
  },
  {
   "cell_type": "code",
   "execution_count": 8,
   "id": "2a6b383e-1662-43cb-89b4-9c2db3334906",
   "metadata": {},
   "outputs": [],
   "source": [
    "def fib(n):\n",
    "    a,b = 0,1\n",
    "    for i in range(n):\n",
    "        yield a \n",
    "        a , b = b , a+b\n",
    "        "
   ]
  },
  {
   "cell_type": "code",
   "execution_count": 11,
   "id": "7fe82771-a980-4f9f-9329-cad875fc7956",
   "metadata": {},
   "outputs": [
    {
     "data": {
      "text/plain": [
       "<generator object fib at 0x7f2940ec9b60>"
      ]
     },
     "execution_count": 11,
     "metadata": {},
     "output_type": "execute_result"
    }
   ],
   "source": [
    "fib(8)\n"
   ]
  },
  {
   "cell_type": "code",
   "execution_count": 12,
   "id": "cf968f2f-1cb0-409f-9cfc-f65716513d56",
   "metadata": {},
   "outputs": [
    {
     "name": "stdout",
     "output_type": "stream",
     "text": [
      "0\n",
      "1\n",
      "1\n",
      "2\n",
      "3\n",
      "5\n",
      "8\n",
      "13\n"
     ]
    }
   ],
   "source": [
    "for i in fib(8):\n",
    "    print(i)"
   ]
  },
  {
   "cell_type": "markdown",
   "id": "db321dc8-044b-4f95-81b0-dd8af7b362fa",
   "metadata": {},
   "source": [
    "Q5. Create a generator function for prime numbers less than 1000. Use the next() method to print the\n",
    "first 20 prime numbers."
   ]
  },
  {
   "cell_type": "markdown",
   "id": "0788a6e2-d5e6-40ba-b9b8-396bcbd7929c",
   "metadata": {},
   "source": [
    "Q6. Write a python program to print the first 10 Fibonacci numbers using a while loop."
   ]
  },
  {
   "cell_type": "code",
   "execution_count": 24,
   "id": "583c7d4e-2bb7-4439-bd8e-057e13836ba0",
   "metadata": {},
   "outputs": [],
   "source": [
    "def fib_f():\n",
    "    a ,b = 0,1\n",
    "    while True:\n",
    "        yield a \n",
    "        a ,b = b , a+b"
   ]
  },
  {
   "cell_type": "code",
   "execution_count": 26,
   "id": "ac4caf5c-cb29-41d4-8cad-6e36afefdfba",
   "metadata": {},
   "outputs": [],
   "source": [
    "fib = fib_f()"
   ]
  },
  {
   "cell_type": "code",
   "execution_count": 27,
   "id": "472028e9-efcd-4401-8251-a7f83db6f38e",
   "metadata": {},
   "outputs": [
    {
     "name": "stdout",
     "output_type": "stream",
     "text": [
      "0\n",
      "1\n",
      "1\n",
      "2\n",
      "3\n",
      "5\n",
      "8\n",
      "13\n",
      "21\n",
      "34\n"
     ]
    }
   ],
   "source": [
    "for i in range(10):\n",
    "    print(next(fib))"
   ]
  },
  {
   "cell_type": "markdown",
   "id": "1d8be47d-2fb4-4ab1-909c-0baec6106d34",
   "metadata": {},
   "source": [
    "Q7. Write a List Comprehension to iterate through the given string: ‘pwskills’.\n",
    "\n",
    "Expected output: ['p', 'w', 's', 'k', 'i', 'l', 'l', 's']\n"
   ]
  },
  {
   "cell_type": "code",
   "execution_count": 39,
   "id": "822edd95-f899-4a38-86aa-4caaa5d88224",
   "metadata": {},
   "outputs": [],
   "source": [
    "s = 'pwskills'\n"
   ]
  },
  {
   "cell_type": "code",
   "execution_count": 40,
   "id": "ee52a430-70c8-4c2f-a55a-35e3c4be79dc",
   "metadata": {},
   "outputs": [
    {
     "name": "stdout",
     "output_type": "stream",
     "text": [
      "['p', 'w', 's', 'k', 'i', 'l', 'l', 's']\n"
     ]
    }
   ],
   "source": [
    "result = [char for char in s]\n",
    "print(result)"
   ]
  },
  {
   "cell_type": "markdown",
   "id": "c3e3c3ba-7670-40fb-bdbf-ae3c942f8ced",
   "metadata": {},
   "source": [
    "Q8. Write a python program to check whether a given number is Palindrome or not using a while loop."
   ]
  },
  {
   "cell_type": "code",
   "execution_count": 52,
   "id": "9a68a720-78ed-40b6-904a-5c78b101e00f",
   "metadata": {},
   "outputs": [
    {
     "name": "stdin",
     "output_type": "stream",
     "text": [
      "Enter a number:  252\n"
     ]
    },
    {
     "name": "stdout",
     "output_type": "stream",
     "text": [
      "252 is a palindrome.\n"
     ]
    }
   ],
   "source": [
    "\n",
    "def is_palindrome(num):\n",
    "    original_num = num\n",
    "    reversed_num = 0\n",
    "\n",
    "    while num > 0:\n",
    "        digit = num % 10\n",
    "        reversed_num = reversed_num * 10 + digit\n",
    "        num = num // 10\n",
    "\n",
    "    return original_num == reversed_num\n",
    "\n",
    "# Input a number from the user\n",
    "number = int(input(\"Enter a number: \"))\n",
    "\n",
    "# Check if the number is a palindrome\n",
    "if is_palindrome(number):\n",
    "    print(f\"{number} is a palindrome.\")\n",
    "else:\n",
    "    print(f\"{number} is not a palindrome.\")"
   ]
  },
  {
   "cell_type": "markdown",
   "id": "1eb3e599-7a73-4c37-a0bf-029bd1763070",
   "metadata": {},
   "source": [
    "Q9. Write a code to print odd numbers from 1 to 100 using list comprehension."
   ]
  },
  {
   "cell_type": "code",
   "execution_count": 53,
   "id": "ec59ac0c-8eab-4024-b9a0-9d22752a41f4",
   "metadata": {},
   "outputs": [
    {
     "name": "stdout",
     "output_type": "stream",
     "text": [
      "[1, 3, 5, 7, 9, 11, 13, 15, 17, 19, 21, 23, 25, 27, 29, 31, 33, 35, 37, 39, 41, 43, 45, 47, 49, 51, 53, 55, 57, 59, 61, 63, 65, 67, 69, 71, 73, 75, 77, 79, 81, 83, 85, 87, 89, 91, 93, 95, 97, 99]\n"
     ]
    }
   ],
   "source": [
    "# List comprehension to create a list from 1 to 100\n",
    "numbers = list(range(1, 101))\n",
    "\n",
    "# List comprehension to filter out odd numbers\n",
    "odd_numbers = [num for num in numbers if num % 2 != 0]\n",
    "\n",
    "# Print the result\n",
    "print(odd_numbers)"
   ]
  },
  {
   "cell_type": "code",
   "execution_count": null,
   "id": "4649f309-7424-4127-8307-5751d8d44b68",
   "metadata": {},
   "outputs": [],
   "source": []
  }
 ],
 "metadata": {
  "kernelspec": {
   "display_name": "Python 3 (ipykernel)",
   "language": "python",
   "name": "python3"
  },
  "language_info": {
   "codemirror_mode": {
    "name": "ipython",
    "version": 3
   },
   "file_extension": ".py",
   "mimetype": "text/x-python",
   "name": "python",
   "nbconvert_exporter": "python",
   "pygments_lexer": "ipython3",
   "version": "3.10.8"
  }
 },
 "nbformat": 4,
 "nbformat_minor": 5
}
