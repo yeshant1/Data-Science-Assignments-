{
 "cells": [
  {
   "cell_type": "markdown",
   "id": "cc1f5ffe-1a92-470b-8e3b-d6cc03e12600",
   "metadata": {},
   "source": [
    "Q1- Create a vehicle class with an init method having instance variables as name_of_vehicle, max_speed\n",
    "and average_of_vehicle."
   ]
  },
  {
   "cell_type": "code",
   "execution_count": 1,
   "id": "7dfe56fe-4e66-4a65-880e-436842c5cdbc",
   "metadata": {},
   "outputs": [],
   "source": [
    "class Vehicle:\n",
    "    def __init__(self,name,max_speed,average):\n",
    "        self.name = name\n",
    "        self.max_speed = max_speed\n",
    "        self.average = average"
   ]
  },
  {
   "cell_type": "code",
   "execution_count": 3,
   "id": "1793cc27-ce76-4af1-8c98-e245f4924ed9",
   "metadata": {},
   "outputs": [],
   "source": [
    "obj = Vehicle(\"Audi\",\"158 kmph\", \"10 miles/hr\")"
   ]
  },
  {
   "cell_type": "code",
   "execution_count": 4,
   "id": "fd4e7ece-19b7-4a0b-a0bb-322250c77a27",
   "metadata": {},
   "outputs": [
    {
     "data": {
      "text/plain": [
       "<__main__.Vehicle at 0x1f5c7f7e680>"
      ]
     },
     "execution_count": 4,
     "metadata": {},
     "output_type": "execute_result"
    }
   ],
   "source": [
    "obj"
   ]
  },
  {
   "cell_type": "code",
   "execution_count": 8,
   "id": "35550bd7-d4e2-4e2e-b619-f56753fc9daf",
   "metadata": {},
   "outputs": [
    {
     "name": "stdout",
     "output_type": "stream",
     "text": [
      "Vehicle Name: Audi\n",
      "Max Speed: 200 km/h\n",
      "Average Efficiency: 10 km/l\n"
     ]
    }
   ],
   "source": [
    "car = Vehicle(\"Audi\", 200, 10)\n",
    "print(f\"Vehicle Name: {car.name}\")\n",
    "print(f\"Max Speed: {car.max_speed} km/h\")\n",
    "print(f\"Average Efficiency: {car.average} km/l\")"
   ]
  },
  {
   "cell_type": "markdown",
   "id": "0df1adaf-a68e-4836-8aa2-b1f164dbaaa4",
   "metadata": {},
   "source": [
    "Q2. Create a child class car from the vehicle class created in Que 1, which will inherit the vehicle class.\n",
    "Create a method named seating_capacity which takes capacity as an argument and returns the name of\n",
    "the vehicle and its seating capacity.\n"
   ]
  },
  {
   "cell_type": "code",
   "execution_count": 9,
   "id": "b81bba88-7c98-4aab-bd35-990faeac051a",
   "metadata": {},
   "outputs": [],
   "source": [
    "class Vehicle:\n",
    "    def __init__(self,name,max_speed,average):\n",
    "        self.name = name\n",
    "        self.max_speed = max_speed\n",
    "        self.average = average\n",
    "\n",
    "    def capacity(self,capacity):\n",
    "        return f\"{name} has seating capacity of {capacity} members.\"\n",
    "        "
   ]
  },
  {
   "cell_type": "markdown",
   "id": "74efd886-5058-40b3-8483-c801dbe6aa2e",
   "metadata": {},
   "source": [
    "Q3. What is multiple inheritance? Write a python code to demonstrate multiple inheritance.\n"
   ]
  },
  {
   "cell_type": "markdown",
   "id": "0d4c199f-a2fe-40d2-8242-85cd3ae6bf27",
   "metadata": {},
   "source": [
    "Multiple Inheritance : \n",
    "It is a concept where the child class inherits the properties from more than one parent classes.\n"
   ]
  },
  {
   "cell_type": "code",
   "execution_count": 22,
   "id": "7676766b-e1af-42d1-ad36-67c1fa3b9d6d",
   "metadata": {},
   "outputs": [
    {
     "name": "stdout",
     "output_type": "stream",
     "text": [
      "Polly is a Parrot.\n",
      "Chirp!\n"
     ]
    }
   ],
   "source": [
    "# Parent class 1\n",
    "class Animal:\n",
    "    def __init__(self, name):\n",
    "        self.name = name\n",
    "\n",
    "    def speak(self):\n",
    "        pass\n",
    "\n",
    "# Parent class 2\n",
    "class Flyable:\n",
    "    def fly(self):\n",
    "        pass\n",
    "\n",
    "# Child class inheriting from both Animal and Flyable\n",
    "class Bird(Animal, Flyable):\n",
    "    def __init__(self, name, species):\n",
    "        super().__init__(name)\n",
    "        self.species = species\n",
    "\n",
    "    def speak(self):\n",
    "        return \"Chirp!\"\n",
    "\n",
    "# Creating an instance of Bird\n",
    "parrot = Bird(\"Polly\", \"Parrot\")\n",
    "print(f\"{parrot.name} is a {parrot.species}.\")\n",
    "print(parrot.speak())\n",
    "parrot.fly()  # Bird class inherits fly method from Flyable class\n",
    "\n",
    "    "
   ]
  },
  {
   "cell_type": "markdown",
   "id": "91370b62-31b1-44c5-bd0a-e9c1811468fb",
   "metadata": {},
   "source": [
    "Q4. What are getter and setter in python? Create a class and create a getter and a setter method in this\n",
    "class.\n"
   ]
  },
  {
   "cell_type": "markdown",
   "id": "fdc971e8-1392-4327-9147-6d666e6f7638",
   "metadata": {},
   "source": [
    "getter and setter are used to access and modify the attributes(variables) of a class.They used to provide encapsulation.\n"
   ]
  },
  {
   "cell_type": "code",
   "execution_count": 24,
   "id": "f5f32bb7-d1d8-4aa6-8d8a-046ac13f8df7",
   "metadata": {},
   "outputs": [
    {
     "name": "stdout",
     "output_type": "stream",
     "text": [
      "Name: Alice\n",
      "Age: 20\n",
      "Updated Name: Bob\n",
      "Updated Age: 22\n",
      "Age cannot be negative.\n",
      "Age after invalid set: 22\n"
     ]
    }
   ],
   "source": [
    "class Student:\n",
    "    def __init__(self, name, age):\n",
    "        self._name = name  # private attribute\n",
    "        self._age = age    # private attribute\n",
    "\n",
    "    # Getter method for 'name'\n",
    "    def get_name(self):\n",
    "        return self._name\n",
    "\n",
    "    # Setter method for 'name'\n",
    "    def set_name(self, name):\n",
    "        self._name = name\n",
    "\n",
    "    # Getter method for 'age'\n",
    "    def get_age(self):\n",
    "        return self._age\n",
    "\n",
    "    # Setter method for 'age'\n",
    "    def set_age(self, age):\n",
    "        if age >= 0:\n",
    "            self._age = age\n",
    "        else:\n",
    "            print(\"Age cannot be negative.\")\n",
    "\n",
    "# Creating an instance of Student\n",
    "student1 = Student(\"Alice\", 20)\n",
    "\n",
    "# Using getter methods\n",
    "print(\"Name:\", student1.get_name())\n",
    "print(\"Age:\", student1.get_age())\n",
    "\n",
    "# Using setter methods\n",
    "student1.set_name(\"Bob\")\n",
    "student1.set_age(22)\n",
    "\n",
    "# Displaying updated attributes\n",
    "print(\"Updated Name:\", student1.get_name())\n",
    "print(\"Updated Age:\", student1.get_age())\n",
    "\n",
    "# Trying to set an invalid age\n",
    "student1.set_age(-1)  # This will print \"Age cannot be negative.\"\n",
    "print(\"Age after invalid set:\", student1.get_age())  # Age remains unchanged\n"
   ]
  },
  {
   "cell_type": "markdown",
   "id": "d4c02a04-07f5-4510-8f03-2e1c2efe02e6",
   "metadata": {},
   "source": [
    "Q5.What is method overriding in python? Write a python code to demonstrate method overriding."
   ]
  },
  {
   "cell_type": "code",
   "execution_count": null,
   "id": "681cc908-3aed-4d51-9b5c-1cc6dc419ff8",
   "metadata": {},
   "outputs": [],
   "source": []
  }
 ],
 "metadata": {
  "kernelspec": {
   "display_name": "Python 3 (ipykernel)",
   "language": "python",
   "name": "python3"
  },
  "language_info": {
   "codemirror_mode": {
    "name": "ipython",
    "version": 3
   },
   "file_extension": ".py",
   "mimetype": "text/x-python",
   "name": "python",
   "nbconvert_exporter": "python",
   "pygments_lexer": "ipython3",
   "version": "3.10.11"
  }
 },
 "nbformat": 4,
 "nbformat_minor": 5
}
