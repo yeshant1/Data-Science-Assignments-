{
 "cells": [
  {
   "cell_type": "markdown",
   "id": "7e1efe3d-4169-4480-9bcb-fab935a8d320",
   "metadata": {},
   "source": [
    "Q1. What is Abstraction in OOps? Explain with an example."
   ]
  },
  {
   "cell_type": "markdown",
   "id": "cafdb6b7-3dd5-420a-a9dc-7e23230dfce6",
   "metadata": {},
   "source": [
    "In object-oriented programming (OOP), abstraction is a fundamental concept that focuses on hiding the complex implementation details of a system behind a simplified interface, allowing users to interact with it at a higher level of abstraction."
   ]
  },
  {
   "cell_type": "code",
   "execution_count": 2,
   "id": "582af544-0a98-4f20-9fe4-51d16d4ae6ee",
   "metadata": {},
   "outputs": [
    {
     "name": "stdout",
     "output_type": "stream",
     "text": [
      "Sedan car is starting.\n",
      "Car is accelerating.\n",
      "Car is braking.\n",
      "Sedan car is stopping.\n"
     ]
    }
   ],
   "source": [
    "from abc import ABC, abstractmethod\n",
    "\n",
    "# Abstract class Car\n",
    "class Car(ABC):\n",
    "    # Abstract method (no implementation)\n",
    "    @abstractmethod\n",
    "    def start(self):\n",
    "        pass\n",
    "\n",
    "    # Abstract method (no implementation)\n",
    "    @abstractmethod\n",
    "    def stop(self):\n",
    "        pass\n",
    "\n",
    "    # Concrete method with implementation\n",
    "    def accelerate(self):\n",
    "        print(\"Car is accelerating.\")\n",
    "\n",
    "    # Concrete method with implementation\n",
    "    def brake(self):\n",
    "        print(\"Car is braking.\")\n",
    "\n",
    "# Concrete class Sedan implementing Car\n",
    "class Sedan(Car):\n",
    "    # Implementing abstract methods\n",
    "    def start(self):\n",
    "        print(\"Sedan car is starting.\")\n",
    "\n",
    "    def stop(self):\n",
    "        print(\"Sedan car is stopping.\")\n",
    "\n",
    "# Main function to demonstrate abstraction\n",
    "def main():\n",
    "    # Creating an object of Sedan\n",
    "    my_sedan = Sedan()\n",
    "\n",
    "    # Using abstract methods and concrete methods\n",
    "    my_sedan.start()\n",
    "    my_sedan.accelerate()\n",
    "    my_sedan.brake()\n",
    "    my_sedan.stop()\n",
    "\n",
    "# Execute main function\n",
    "if __name__ == \"__main__\":\n",
    "    main()\n"
   ]
  },
  {
   "cell_type": "markdown",
   "id": "7673c369-3980-4211-b1e7-1aeadaf81df2",
   "metadata": {},
   "source": [
    "Q2. Differentiate between Abstraction and Encapsulation. Explain with an example."
   ]
  },
  {
   "cell_type": "markdown",
   "id": "c76422eb-4bad-43ae-8256-1ec4ff5c2b1a",
   "metadata": {},
   "source": [
    "Abstraction focuses on hiding the complex implementation details of a system behind a simplified interface, allowing users to interact with objects at a higher level of abstraction."
   ]
  },
  {
   "cell_type": "markdown",
   "id": "b9afea38-a673-4706-8bfd-ec24341b2925",
   "metadata": {},
   "source": [
    "Encapsulation focuses on bundling the data (attributes) and methods (functions that operate on the data) together within a class and restricting access to some of the object's components."
   ]
  },
  {
   "cell_type": "code",
   "execution_count": 3,
   "id": "2ac4fd64-4d0b-49db-86fd-c6ef4a8a0c9d",
   "metadata": {},
   "outputs": [
    {
     "name": "stdout",
     "output_type": "stream",
     "text": [
      "Car: Toyota, Model: Corolla\n",
      "Current speed: 20 km/h\n"
     ]
    }
   ],
   "source": [
    "# Example of encapsulation in Python\n",
    "class Car:\n",
    "    def __init__(self, make, model):\n",
    "        self._make = make        # Encapsulated attribute (protected)\n",
    "        self._model = model      # Encapsulated attribute (protected)\n",
    "        self._speed = 0          # Encapsulated attribute (protected)\n",
    "\n",
    "    # Encapsulated method to access make attribute\n",
    "    def get_make(self):\n",
    "        return self._make\n",
    "\n",
    "    # Encapsulated method to set model attribute\n",
    "    def set_model(self, model):\n",
    "        self._model = model\n",
    "\n",
    "    # Encapsulated method to get speed attribute\n",
    "    def get_speed(self):\n",
    "        return self._speed\n",
    "\n",
    "    # Encapsulated method to increase speed\n",
    "    def accelerate(self, increment):\n",
    "        self._speed += increment\n",
    "\n",
    "# Usage example\n",
    "my_car = Car(\"Toyota\", \"Corolla\")\n",
    "print(f\"Car: {my_car.get_make()}, Model: {my_car._model}\")  # Accessing make (using getter), model (direct access)\n",
    "my_car.accelerate(20)  # Accelerating the car\n",
    "print(f\"Current speed: {my_car.get_speed()} km/h\")\n"
   ]
  },
  {
   "cell_type": "markdown",
   "id": "96003331-008b-4e4e-9e39-9fe4037979b1",
   "metadata": {},
   "source": [
    "Q3. What is abc module in python? Why is it used?"
   ]
  },
  {
   "cell_type": "markdown",
   "id": "cc2ecb7e-d34d-4890-88ff-9ec43b71a5a7",
   "metadata": {},
   "source": [
    "In Python, the abc module stands for \"Abstract Base Classes.\" It provides tools for defining abstract base classes and abstract methods, which are essential for implementing abstraction and ensuring a consistent structure in object-oriented programming."
   ]
  },
  {
   "cell_type": "code",
   "execution_count": 4,
   "id": "49a8ee90-f628-42f6-b4cc-936802f67267",
   "metadata": {},
   "outputs": [
    {
     "name": "stdout",
     "output_type": "stream",
     "text": [
      "Area of circle: 78.5\n",
      "Perimeter of circle: 31.400000000000002\n",
      "Area of rectangle: 24\n",
      "Perimeter of rectangle: 20\n"
     ]
    }
   ],
   "source": [
    "from abc import ABC, abstractmethod\n",
    "\n",
    "# Abstract base class\n",
    "class Shape(ABC):\n",
    "    @abstractmethod\n",
    "    def area(self):\n",
    "        pass\n",
    "\n",
    "    @abstractmethod\n",
    "    def perimeter(self):\n",
    "        pass\n",
    "\n",
    "# Concrete subclass Circle\n",
    "class Circle(Shape):\n",
    "    def __init__(self, radius):\n",
    "        self.radius = radius\n",
    "\n",
    "    def area(self):\n",
    "        return 3.14 * self.radius * self.radius\n",
    "\n",
    "    def perimeter(self):\n",
    "        return 2 * 3.14 * self.radius\n",
    "\n",
    "# Concrete subclass Rectangle\n",
    "class Rectangle(Shape):\n",
    "    def __init__(self, width, height):\n",
    "        self.width = width\n",
    "        self.height = height\n",
    "\n",
    "    def area(self):\n",
    "        return self.width * self.height\n",
    "\n",
    "    def perimeter(self):\n",
    "        return 2 * (self.width + self.height)\n",
    "\n",
    "# Usage example\n",
    "circle = Circle(5)\n",
    "print(f\"Area of circle: {circle.area()}\")\n",
    "print(f\"Perimeter of circle: {circle.perimeter()}\")\n",
    "\n",
    "rectangle = Rectangle(4, 6)\n",
    "print(f\"Area of rectangle: {rectangle.area()}\")\n",
    "print(f\"Perimeter of rectangle: {rectangle.perimeter()}\")\n"
   ]
  },
  {
   "cell_type": "markdown",
   "id": "1f2752fd-4a5e-40ea-bc39-494dcfc57707",
   "metadata": {},
   "source": [
    "Q4. How can we achieve data abstraction?"
   ]
  },
  {
   "cell_type": "markdown",
   "id": "5967adc7-01e0-4f25-9655-36f76e6b8ff9",
   "metadata": {},
   "source": [
    "Data abstraction in programming refers to the process of hiding certain details of how data is stored and manipulated while exposing only essential operations and properties in a simplified interface. Achieving data abstraction typically involves two main techniques: encapsulation and abstract data types. Encapsulation and ABstract Data Types"
   ]
  },
  {
   "cell_type": "markdown",
   "id": "5f5581c0-a2a1-49ee-88a5-f5dfd9854417",
   "metadata": {},
   "source": [
    "Q5. Can we create an instance of an abstract class? Explain your answer."
   ]
  },
  {
   "cell_type": "code",
   "execution_count": null,
   "id": "69d7d013-85aa-4e7e-bfc7-a8c08d0102e8",
   "metadata": {},
   "outputs": [],
   "source": []
  }
 ],
 "metadata": {
  "kernelspec": {
   "display_name": "Python 3 (ipykernel)",
   "language": "python",
   "name": "python3"
  },
  "language_info": {
   "codemirror_mode": {
    "name": "ipython",
    "version": 3
   },
   "file_extension": ".py",
   "mimetype": "text/x-python",
   "name": "python",
   "nbconvert_exporter": "python",
   "pygments_lexer": "ipython3",
   "version": "3.10.11"
  }
 },
 "nbformat": 4,
 "nbformat_minor": 5
}
