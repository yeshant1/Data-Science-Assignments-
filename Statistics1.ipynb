{
 "cells": [
  {
   "cell_type": "markdown",
   "id": "3ed4ce3a-fcdd-424e-bbaa-fa8170533a15",
   "metadata": {},
   "source": []
  },
  {
   "cell_type": "markdown",
   "id": "4e03d02b-d0ac-4b43-bc4c-fd52963413df",
   "metadata": {},
   "source": [
    "Q1. What is Statistics?"
   ]
  },
  {
   "cell_type": "markdown",
   "id": "eef54257-9eb9-4bc6-ae22-1d56d722aec6",
   "metadata": {},
   "source": [
    "Statistics is the science of collecting,organizing and analyzing data."
   ]
  },
  {
   "cell_type": "markdown",
   "id": "e0346467-4045-4ac1-8994-cb1bd5745a38",
   "metadata": {},
   "source": [
    "Q2. Define the different types of statistics and give an example of when each type might be used."
   ]
  },
  {
   "cell_type": "markdown",
   "id": "18906697-3e17-4cdd-bb57-1a235314fbd7",
   "metadata": {},
   "source": [
    "There are two types of Statistics -\n",
    "1- Descriptive Statistics\n",
    "Eg- What is the Average height of entire classroom.\n",
    "2- Inferential Statistics \n",
    "Eg- are height of student in class similar to entire college ?\n",
    "\n",
    "\n",
    "Descriptive Statistics consists of organizing and summarizing data where as Inferential Statistics consists of using data you have measure to form conclusion.\n",
    "\n",
    "\n"
   ]
  },
  {
   "cell_type": "markdown",
   "id": "7f918a4d-675b-4728-8da4-43c8d92b59b6",
   "metadata": {},
   "source": [
    "Q3. What are the different types of data and how do they differ from each other? Provide an example of\n",
    "each type of data."
   ]
  },
  {
   "cell_type": "markdown",
   "id": "d44a97ca-ba60-4bb2-bdf6-b63fe3709f41",
   "metadata": {},
   "source": [
    "There are two types of data - \n",
    "1 - Quantitative \n",
    "eg - No of bank account of a person(Discreet) , Weight(Continuous)\n",
    "2 - Qualitative \n",
    "eg Gender(Nominal),CUstomer Feedback(Ordinal)\n",
    "\n",
    "Qualitative is measurable numerical variables where as qualitative is categorical data.\n"
   ]
  },
  {
   "cell_type": "markdown",
   "id": "d5a234a0-9d39-49bc-a9e3-26d00145768f",
   "metadata": {},
   "source": [
    "Q4. Categorise the following datasets with respect to quantitative and qualitative data types:\n",
    "(i) Grading in exam: A+, A, B+, B, C+, C, D, E\n",
    "(ii) Colour of mangoes: yellow, green, orange, red\n",
    "(iii) Height data of a class: [178.9, 179, 179.5, 176, 177.2, 178.3, 175.8,...]\n",
    "(iv) Number of mangoes exported by a farm: [500, 600, 478, 672, ...]"
   ]
  },
  {
   "cell_type": "markdown",
   "id": "13c28448-f9b9-41ac-b7cf-e960419f4ec5",
   "metadata": {},
   "source": [
    "i - Ordinal\n",
    "ii - Nominal\n",
    "iii- Continuous\n",
    "iv - Discreet"
   ]
  },
  {
   "cell_type": "markdown",
   "id": "5c8d3003-c575-476b-820b-a6988506285f",
   "metadata": {},
   "source": [
    "Q5. Explain the concept of levels of measurement and give an example of a variable for each level."
   ]
  },
  {
   "cell_type": "markdown",
   "id": "f5979b47-f1b7-48ef-8c51-9e019ed5b459",
   "metadata": {},
   "source": [
    "Levels of measurement, also known as scales of measurement or types of data, refer to the ways in which variables are categorized or measured in statistics and research. There are generally four levels of measurement: nominal, ordinal, interval, and ratio.\n",
    "\n",
    "Nominal Level: This is the simplest level of measurement where variables are categorized into distinct, unordered categories or labels. Nominal data do not have a natural order or ranking. Examples include:\n",
    "\n",
    "Gender (categories: Male, Female)\n",
    "Marital status (categories: Single, Married, Divorced)\n",
    "Ordinal Level: Variables at the ordinal level have a natural order or ranking, but the differences between values are not precisely measurable. Examples include:\n",
    "\n",
    "Educational level (categories: High School Diploma, Bachelor's Degree, Master's Degree)\n",
    "Rating scales (e.g., Likert scale: Strongly Disagree, Disagree, Neutral, Agree, Strongly Agree)\n",
    "Interval Level: At this level, variables have a constant interval between values, but there is no true zero point. This means that while differences between values are meaningful, ratios are not. Examples include:\n",
    "\n",
    "Temperature in Celsius or Fahrenheit (e.g., 25°C, 30°C)\n",
    "Calendar dates (e.g., January 1st, February 15th)\n",
    "Ratio Level: This is the highest level of measurement where variables have a true zero point, allowing for meaningful ratios and comparisons between values. Examples include:\n",
    "\n",
    "Height (e.g., 170 cm, 180 cm)\n",
    "Weight (e.g., 60 kg, 75 kg)"
   ]
  },
  {
   "cell_type": "markdown",
   "id": "0ec45230-a538-493a-b702-e737759e3671",
   "metadata": {},
   "source": [
    "Q6. Why is it important to understand the level of measurement when analyzing data? Provide an\n",
    "example to illustrate your answer."
   ]
  },
  {
   "cell_type": "markdown",
   "id": "9d38a41a-c6d5-4930-8685-588e1bbdda21",
   "metadata": {},
   "source": [
    "Understanding the level of measurement in data analysis is crucial for selecting appropriate statistical techniques and interpreting results accurately. For instance, nominal data (categories like gender) require different methods than ratio data (with a true zero, like weight). This knowledge guides meaningful analysis; for example, using parametric tests on ratio data for precise comparisons or non-parametric tests on ordinal data for rank-based comparisons. It ensures statistical operations align with the data's characteristics, enhancing the reliability and relevance of conclusions drawn from the analysis. Thus, knowing the level of measurement informs how data is handled and insights are derived, optimizing research outcomes."
   ]
  },
  {
   "cell_type": "markdown",
   "id": "e6e0fbc6-6761-4760-abd5-517f9f861b8c",
   "metadata": {},
   "source": [
    "Q7. How nominal data type is different from ordinal data type."
   ]
  },
  {
   "cell_type": "markdown",
   "id": "438b09d6-c8a1-46ab-96f3-1df12e10dfce",
   "metadata": {},
   "source": [
    "nominal data focuses on categorization without any order, while ordinal data adds a dimension of rank or order among categories, albeit without precise measurement of differences between them."
   ]
  },
  {
   "cell_type": "markdown",
   "id": "4fb5dbec-3bde-45b4-8acd-e969d45bb8f9",
   "metadata": {},
   "source": [
    "Q8. Which type of plot can be used to display data in terms of range?"
   ]
  },
  {
   "cell_type": "markdown",
   "id": "905c7c1d-af37-4644-bba3-2591c12e1d84",
   "metadata": {},
   "source": [
    "To display data in terms of range, a box plot (box-and-whisker plot) is commonly used."
   ]
  },
  {
   "cell_type": "markdown",
   "id": "fde08daf-1147-4cd6-9fc8-9d5ab167f56f",
   "metadata": {},
   "source": [
    "Q9. Describe the difference between descriptive and inferential statistics. Give an example of each\n",
    "type of statistics and explain how they are used."
   ]
  },
  {
   "cell_type": "markdown",
   "id": "6abbcd37-01e8-4313-b174-be931a120433",
   "metadata": {},
   "source": [
    "Descriptive Statistics Eg- What is the Average height of entire classroom. 2- Inferential Statistics Eg- are height of student in class similar to entire college ?\n",
    "\n",
    "Descriptive Statistics consists of organizing and summarizing data where as Inferential Statistics consists of using data you have measure to form conclusion."
   ]
  },
  {
   "cell_type": "markdown",
   "id": "9ebb49b4-a1f8-4762-9910-36c8396b08f0",
   "metadata": {},
   "source": [
    "Q10. What are some common measures of central tendency and variability used in statistics? Explain\n",
    "how each measure can be used to describe a dataset."
   ]
  },
  {
   "cell_type": "markdown",
   "id": "855519d8-28ff-4fd3-9d7c-f63dcf98dd56",
   "metadata": {},
   "source": [
    "Measures of Central Tendency - Mode, Mean , MEdian \n",
    "Measures of Variability - Range,Variance, Standard Deviation\n",
    "\n",
    "Central Tendency: Measures like mean, median, and mode give insights into where the center of the data lies, helping to summarize the typical or central value around which the data points cluster.\n",
    "\n",
    "Variability: Measures such as range, variance, and standard deviation describe how spread out the data points are from the central tendency. They indicate the degree of dispersion or variability within the dataset, which is crucial for understanding the distribution and reliability of the data.\n"
   ]
  }
 ],
 "metadata": {
  "kernelspec": {
   "display_name": "Python 3 (ipykernel)",
   "language": "python",
   "name": "python3"
  },
  "language_info": {
   "codemirror_mode": {
    "name": "ipython",
    "version": 3
   },
   "file_extension": ".py",
   "mimetype": "text/x-python",
   "name": "python",
   "nbconvert_exporter": "python",
   "pygments_lexer": "ipython3",
   "version": "3.10.11"
  }
 },
 "nbformat": 4,
 "nbformat_minor": 5
}
