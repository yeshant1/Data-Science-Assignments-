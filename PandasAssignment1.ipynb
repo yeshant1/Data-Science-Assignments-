{
 "cells": [
  {
   "cell_type": "markdown",
   "id": "3a91f300-8c97-42c6-a12c-a6ba832fc5c4",
   "metadata": {},
   "source": [
    "Q1. Create a Pandas Series that contains the following data: 4, 8, 15, 16, 23, and 42. Then, print the series."
   ]
  },
  {
   "cell_type": "code",
   "execution_count": 2,
   "id": "f6903fdd-aa19-4651-839d-3b1d7bf2281e",
   "metadata": {},
   "outputs": [],
   "source": [
    "data = [4,8,15,16,23,42]"
   ]
  },
  {
   "cell_type": "code",
   "execution_count": 3,
   "id": "a98b1646-5508-4662-a491-5cecd1464a85",
   "metadata": {},
   "outputs": [],
   "source": [
    "import pandas as pd\n"
   ]
  },
  {
   "cell_type": "code",
   "execution_count": 5,
   "id": "96f6412d-c205-4426-8672-25ded3b7803f",
   "metadata": {},
   "outputs": [],
   "source": [
    "df = pd.Series(data)"
   ]
  },
  {
   "cell_type": "code",
   "execution_count": 6,
   "id": "50272cdd-5cb5-444d-bfa3-5a16e052659a",
   "metadata": {},
   "outputs": [
    {
     "data": {
      "text/plain": [
       "0     4\n",
       "1     8\n",
       "2    15\n",
       "3    16\n",
       "4    23\n",
       "dtype: int64"
      ]
     },
     "execution_count": 6,
     "metadata": {},
     "output_type": "execute_result"
    }
   ],
   "source": [
    "df.head()"
   ]
  },
  {
   "cell_type": "code",
   "execution_count": 7,
   "id": "3fc50d88-a50d-49de-80fd-462e7f34fec4",
   "metadata": {},
   "outputs": [
    {
     "name": "stdout",
     "output_type": "stream",
     "text": [
      "0     4\n",
      "1     8\n",
      "2    15\n",
      "3    16\n",
      "4    23\n",
      "5    42\n",
      "dtype: int64\n"
     ]
    }
   ],
   "source": [
    "print(df)"
   ]
  },
  {
   "cell_type": "markdown",
   "id": "c2116677-5184-401b-8e09-097afd6c3bd7",
   "metadata": {},
   "source": [
    "Q2. Create a variable of list type containing 10 elements in it, and apply pandas.Series function on the\n",
    "variable print it.\n"
   ]
  },
  {
   "cell_type": "code",
   "execution_count": 8,
   "id": "f8c57813-a72b-4c84-933c-971397919130",
   "metadata": {},
   "outputs": [],
   "source": [
    "temp_series = [1,2,3,4,5,6,7,8,9,10]"
   ]
  },
  {
   "cell_type": "code",
   "execution_count": 9,
   "id": "5f2c65eb-c552-4727-b04b-bb427cd9b888",
   "metadata": {},
   "outputs": [],
   "source": [
    "df1 = pd.Series(temp_series)"
   ]
  },
  {
   "cell_type": "code",
   "execution_count": 10,
   "id": "05229903-c712-4463-b173-e5fe38781a86",
   "metadata": {},
   "outputs": [
    {
     "name": "stdout",
     "output_type": "stream",
     "text": [
      "0     1\n",
      "1     2\n",
      "2     3\n",
      "3     4\n",
      "4     5\n",
      "5     6\n",
      "6     7\n",
      "7     8\n",
      "8     9\n",
      "9    10\n",
      "dtype: int64\n"
     ]
    }
   ],
   "source": [
    "print(df1)"
   ]
  },
  {
   "cell_type": "code",
   "execution_count": 12,
   "id": "038bb728-2983-4943-82fc-ab2ac3d37a5e",
   "metadata": {},
   "outputs": [],
   "source": [
    "data1 = {\n",
    "    'Name' : [\"Alice\",\"Bob\",\"Claire\"],\n",
    "    'Age'  : [25,30,27],\n",
    "    'Gender' : [\"Female\",\"Male\",\"Female\"]\n",
    "}"
   ]
  },
  {
   "cell_type": "code",
   "execution_count": 13,
   "id": "a9a85646-6e5c-4136-a2f2-f2dd8c3b1c20",
   "metadata": {},
   "outputs": [],
   "source": [
    "df = pd.DataFrame(data1)"
   ]
  },
  {
   "cell_type": "code",
   "execution_count": 14,
   "id": "031010cf-2355-4a3b-a8a9-71d22b4d515f",
   "metadata": {},
   "outputs": [
    {
     "name": "stdout",
     "output_type": "stream",
     "text": [
      "     Name  Age  Gender\n",
      "0   Alice   25  Female\n",
      "1     Bob   30    Male\n",
      "2  Claire   27  Female\n"
     ]
    }
   ],
   "source": [
    "print(df)"
   ]
  },
  {
   "cell_type": "markdown",
   "id": "54f46b4a-2faa-48ef-bdfb-73615ad07d8f",
   "metadata": {},
   "source": [
    "Q4. What is ‘DataFrame’ in pandas and how is it different from pandas.series? Explain with an example."
   ]
  },
  {
   "cell_type": "markdown",
   "id": "2c771678-027c-47ab-8e0d-24cc9091fb36",
   "metadata": {},
   "source": [
    "A DataFrame is a 2-dimensional labeled data structure with columns of potentially different types. It can be thought of as a table, where each column contains data of a specific type (e.g., numeric, string, boolean) and each row represents a record.\n",
    "\n",
    "\n",
    "A Series is a one-dimensional labeled array capable of holding data of any type (integer, string, float, etc.). It is similar to a single column of data in a DataFrame.\n"
   ]
  },
  {
   "cell_type": "code",
   "execution_count": 15,
   "id": "f095b470-07e2-4f46-a69a-54e3c4ee07eb",
   "metadata": {},
   "outputs": [
    {
     "name": "stdout",
     "output_type": "stream",
     "text": [
      "0    25\n",
      "1    30\n",
      "2    35\n",
      "3    40\n",
      "4    45\n",
      "dtype: int64\n"
     ]
    }
   ],
   "source": [
    "#Series\n",
    "import pandas as pd\n",
    "\n",
    "# Data for the Series\n",
    "data = [25, 30, 35, 40, 45]\n",
    "\n",
    "# Create a Series\n",
    "series = pd.Series(data)\n",
    "\n",
    "# Print the Series\n",
    "print(series)\n"
   ]
  },
  {
   "cell_type": "code",
   "execution_count": 16,
   "id": "2c246b18-9f37-4c55-a885-021bbdefd6dd",
   "metadata": {},
   "outputs": [
    {
     "name": "stdout",
     "output_type": "stream",
     "text": [
      "      Name  Age         City\n",
      "0    Alice   25     New York\n",
      "1      Bob   30  Los Angeles\n",
      "2  Charlie   35      Chicago\n"
     ]
    }
   ],
   "source": [
    "#DataFrame\n",
    "import pandas as pd\n",
    "\n",
    "# Data for the DataFrame\n",
    "data = {\n",
    "    'Name': ['Alice', 'Bob', 'Charlie'],\n",
    "    'Age': [25, 30, 35],\n",
    "    'City': ['New York', 'Los Angeles', 'Chicago']\n",
    "}\n",
    "\n",
    "# Create a DataFrame\n",
    "df = pd.DataFrame(data)\n",
    "\n",
    "# Print the DataFrame\n",
    "print(df)\n"
   ]
  },
  {
   "cell_type": "markdown",
   "id": "d0ad31e6-49a1-4aa2-b5f0-c0c1b80eea8b",
   "metadata": {},
   "source": [
    "Q5. What are some common functions you can use to manipulate data in a Pandas DataFrame? Can\n",
    "you give an example of when you might use one of these functions?"
   ]
  },
  {
   "cell_type": "code",
   "execution_count": 22,
   "id": "e01ab272-3e66-4bdd-a27e-554d93a9997d",
   "metadata": {},
   "outputs": [],
   "source": [
    "# Create a DataFrame\n",
    "data2 = {    'Name': ['Alice', 'Bob', 'Charlie'], \n",
    "             'Age': [25, 30, 35],    \n",
    "             'City': ['New York', 'Los Angeles', 'Chicago']}\n",
    "df = pd.DataFrame(data2)\n"
   ]
  },
  {
   "cell_type": "markdown",
   "id": "b6cf15a1-33e5-41b7-af7e-aa01588e9998",
   "metadata": {},
   "source": [
    "Data Cleaning:\n",
    "\n",
    "dropna(): Drops rows with missing values.\n",
    "fillna(): Fills missing values with a specified value or method."
   ]
  },
  {
   "cell_type": "code",
   "execution_count": 23,
   "id": "ea0cb44c-c607-48a0-9565-3fac975c5841",
   "metadata": {},
   "outputs": [
    {
     "name": "stdout",
     "output_type": "stream",
     "text": [
      "      Name  Age         City\n",
      "0    Alice   25     New York\n",
      "1      Bob   30  Los Angeles\n",
      "2  Charlie   35      Chicago\n"
     ]
    }
   ],
   "source": [
    "# Drop rows with missing values\n",
    "cleaned_df = df.dropna()\n",
    "print(cleaned_df)\n"
   ]
  },
  {
   "cell_type": "markdown",
   "id": "83178d17-50a2-447a-a457-7b63ae4e17ce",
   "metadata": {},
   "source": [
    "Q6. Which of the following is mutable in nature Series, DataFrame, Panel?"
   ]
  },
  {
   "cell_type": "markdown",
   "id": "ea93d458-9f49-4cf0-96f4-6f0fffce4fd4",
   "metadata": {},
   "source": [
    "Among Series, DataFrame, and Panel, only DataFrame is mutable in nature.\n",
    "\n",
    "Series: Once created, a Series is immutable. This means you cannot change the elements of a Series directly after it has been created. You can, however, modify the Series by assigning new values or appending new elements.\n",
    "\n",
    "DataFrame: DataFrames are mutable, meaning you can modify its data, add or remove columns, or change its structure after it has been created. This flexibility makes DataFrames highly versatile for data manipulation tasks.\n",
    "\n",
    "Panel: Panels were deprecated in Pandas starting from version 0.20.0, and they are no longer recommended for use. Panels were 3-dimensional data structures (with items, major_axis, and minor_axis) and supported mutable operations similar to DataFrames for their respective axes. However, with the deprecation of Panels, DataFrames and multi-indexing techniques have become the preferred way to handle complex data structures in Pandas."
   ]
  },
  {
   "cell_type": "markdown",
   "id": "73004b51-2f21-44c2-b566-987753377031",
   "metadata": {},
   "source": [
    "Q7. Create a DataFrame using multiple Series. Explain with an example."
   ]
  },
  {
   "cell_type": "code",
   "execution_count": 24,
   "id": "f52964ab-3486-40b8-8786-d76bc9f4fb4f",
   "metadata": {},
   "outputs": [
    {
     "name": "stdout",
     "output_type": "stream",
     "text": [
      "      Name  Age         City\n",
      "0    Alice   25     New York\n",
      "1      Bob   30  Los Angeles\n",
      "2  Charlie   35      Chicago\n"
     ]
    }
   ],
   "source": [
    "\n",
    "# Creating multiple Series\n",
    "names = pd.Series(['Alice', 'Bob', 'Charlie'])\n",
    "ages = pd.Series([25, 30, 35])\n",
    "cities = pd.Series(['New York', 'Los Angeles', 'Chicago'])\n",
    "\n",
    "# Combining Series into a DataFrame\n",
    "df = pd.DataFrame({\n",
    "    'Name': names,\n",
    "    'Age': ages,\n",
    "    'City': cities\n",
    "})\n",
    "\n",
    "# Print the DataFrame\n",
    "print(df)\n"
   ]
  },
  {
   "cell_type": "code",
   "execution_count": null,
   "id": "d16ed7bb-353a-44cf-90a2-b0554fb3cb73",
   "metadata": {},
   "outputs": [],
   "source": []
  }
 ],
 "metadata": {
  "kernelspec": {
   "display_name": "Python 3 (ipykernel)",
   "language": "python",
   "name": "python3"
  },
  "language_info": {
   "codemirror_mode": {
    "name": "ipython",
    "version": 3
   },
   "file_extension": ".py",
   "mimetype": "text/x-python",
   "name": "python",
   "nbconvert_exporter": "python",
   "pygments_lexer": "ipython3",
   "version": "3.10.11"
  }
 },
 "nbformat": 4,
 "nbformat_minor": 5
}
