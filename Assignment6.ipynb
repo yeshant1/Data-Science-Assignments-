{
 "cells": [
  {
   "cell_type": "code",
   "execution_count": null,
   "id": "8b8e50cd-c046-4fc9-abd8-b727a9282d5c",
   "metadata": {},
   "outputs": [],
   "source": []
  },
  {
   "cell_type": "markdown",
   "id": "9bb950a2-b1af-48d8-a74a-0b7e178bc519",
   "metadata": {},
   "source": [
    "Q1. Explain Class and Object with respect to Object-Oriented Programming. Give a suitable example."
   ]
  },
  {
   "cell_type": "markdown",
   "id": "1fca3fcb-83a9-47d7-9dce-ef68c8baa399",
   "metadata": {},
   "source": [
    "Classes is a blueprint or template for objects.It defines atttributes and behaviours that objects will have. Objects are the real world entity or instance of a class ."
   ]
  },
  {
   "cell_type": "code",
   "execution_count": 1,
   "id": "9c967473-bd44-44eb-bf22-601d4e06c53e",
   "metadata": {},
   "outputs": [],
   "source": [
    "class pwskills:\n",
    "\n",
    "    def __init__(self,name):\n",
    "        self.name = name\n",
    "    "
   ]
  },
  {
   "cell_type": "code",
   "execution_count": 2,
   "id": "45880f59-3260-4cdd-bed4-b577332d390d",
   "metadata": {},
   "outputs": [],
   "source": [
    "pw = pwskills(\"Eshant\")"
   ]
  },
  {
   "cell_type": "code",
   "execution_count": 3,
   "id": "fc86b18f-86f0-40c6-951a-a9f185c5a914",
   "metadata": {},
   "outputs": [
    {
     "name": "stdout",
     "output_type": "stream",
     "text": [
      "My name is : Eshant\n"
     ]
    }
   ],
   "source": [
    "print(f\"My name is : {pw.name}\")"
   ]
  },
  {
   "cell_type": "markdown",
   "id": "dc9aecfa-0167-4380-89bf-eaf5201d129f",
   "metadata": {},
   "source": [
    "Q2. Name the four pillars of OOPs."
   ]
  },
  {
   "cell_type": "markdown",
   "id": "fee0566c-3d13-4c54-890a-30f3f42164d1",
   "metadata": {},
   "source": [
    "Encapsulation, Abstraction, Inheritance, Polymorphism."
   ]
  },
  {
   "cell_type": "markdown",
   "id": "3972d107-702b-47e5-a3b6-89dc8903e4f5",
   "metadata": {},
   "source": [
    "Q3. Explain why the __init__() function is used. Give a suitable example."
   ]
  },
  {
   "cell_type": "markdown",
   "id": "e51399b5-661e-4c1d-9a99-eeaacd17f245",
   "metadata": {},
   "source": [
    "In Python, the __init__() function is a special method (also known as a constructor) that is automatically called when a new instance (object) of a class is created. It is used to initialize the object's attributes or perform any other initialization tasks that are necessary before the object is ready for use."
   ]
  },
  {
   "cell_type": "code",
   "execution_count": 5,
   "id": "377f505f-87c6-4e1c-b54f-55fdbafd1f4e",
   "metadata": {},
   "outputs": [],
   "source": [
    "class pwskills:\n",
    "\n",
    "    def __init__(self,name):\n",
    "        self.name = name\n",
    "    "
   ]
  },
  {
   "cell_type": "code",
   "execution_count": 6,
   "id": "d17e032f-9327-4928-9152-26c163560fb0",
   "metadata": {},
   "outputs": [],
   "source": [
    "pw = pwskills(\"Eshant\")"
   ]
  },
  {
   "cell_type": "markdown",
   "id": "3208493c-3d4a-4ca3-9267-18ed8b6af08a",
   "metadata": {},
   "source": [
    "Q4. Why self is used in OOPs?"
   ]
  },
  {
   "cell_type": "markdown",
   "id": "6583e905-0ffe-4ce1-bd3f-c55f5e44add0",
   "metadata": {},
   "source": [
    "self is used to bind the data or attributes to class .It is also known as reference to current instance."
   ]
  },
  {
   "cell_type": "markdown",
   "id": "df165804-6299-463c-bf2f-03f7012b2971",
   "metadata": {},
   "source": [
    "Q5. What is inheritance? Give an example for each type of inheritance."
   ]
  },
  {
   "cell_type": "markdown",
   "id": "ba18326f-c1ed-487e-a9f8-3e046ccbd1f1",
   "metadata": {},
   "source": [
    "Inheritance is a fundamental concept in Object-Oriented Programming (OOP) where a new class (derived class or subclass) is created by inheriting properties (attributes and methods) from an existing class (base class or superclass). This allows the derived class to reuse the code of the base class and extend its functionality"
   ]
  },
  {
   "cell_type": "code",
   "execution_count": 7,
   "id": "07c03c0b-a8d2-41d9-85fb-360570f81d4d",
   "metadata": {},
   "outputs": [
    {
     "name": "stdout",
     "output_type": "stream",
     "text": [
      "Animal speaks\n",
      "Dog barks\n"
     ]
    }
   ],
   "source": [
    "# Base class\n",
    "class Animal:\n",
    "    def speak(self):\n",
    "        print(\"Animal speaks\")\n",
    "\n",
    "# Derived class inheriting from Animal\n",
    "class Dog(Animal):\n",
    "    def bark(self):\n",
    "        print(\"Dog barks\")\n",
    "\n",
    "# Creating an instance of Dog and calling methods\n",
    "dog = Dog()\n",
    "dog.speak()  # Inherited method from Animal class\n",
    "dog.bark()   # Method specific to Dog class\n"
   ]
  },
  {
   "cell_type": "code",
   "execution_count": null,
   "id": "05473835-8e68-4ab4-b727-583873c77939",
   "metadata": {},
   "outputs": [],
   "source": []
  }
 ],
 "metadata": {
  "kernelspec": {
   "display_name": "Python 3 (ipykernel)",
   "language": "python",
   "name": "python3"
  },
  "language_info": {
   "codemirror_mode": {
    "name": "ipython",
    "version": 3
   },
   "file_extension": ".py",
   "mimetype": "text/x-python",
   "name": "python",
   "nbconvert_exporter": "python",
   "pygments_lexer": "ipython3",
   "version": "3.10.11"
  }
 },
 "nbformat": 4,
 "nbformat_minor": 5
}
