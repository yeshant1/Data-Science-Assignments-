{
 "cells": [
  {
   "cell_type": "markdown",
   "id": "475d2b01-0e32-411f-a3a4-091462cb4bca",
   "metadata": {},
   "source": [
    "                             ASSIGNMENT 1 :\n"
   ]
  },
  {
   "cell_type": "markdown",
   "id": "cc75d7f8-7265-4e16-adf7-a261a199bfda",
   "metadata": {},
   "source": [
    "Q1-Create one variable containing following type of data:\n"
   ]
  },
  {
   "cell_type": "markdown",
   "id": "1bd546da-70bb-448a-89db-af2a056b9dfb",
   "metadata": {},
   "source": [
    "(i)string\n"
   ]
  },
  {
   "cell_type": "code",
   "execution_count": 1,
   "id": "d74e97fc-e0fb-4a7e-a14d-4efaaa58c294",
   "metadata": {},
   "outputs": [],
   "source": [
    "a=\"Eshant Yadav\"\n"
   ]
  },
  {
   "cell_type": "code",
   "execution_count": 2,
   "id": "23c16207-882a-49a4-9098-4e7b11e0af98",
   "metadata": {},
   "outputs": [
    {
     "data": {
      "text/plain": [
       "str"
      ]
     },
     "execution_count": 2,
     "metadata": {},
     "output_type": "execute_result"
    }
   ],
   "source": [
    "type(a)"
   ]
  },
  {
   "cell_type": "markdown",
   "id": "919852db-64c5-4af2-b2e0-9a8c6cc31504",
   "metadata": {},
   "source": [
    "(ii)list"
   ]
  },
  {
   "cell_type": "code",
   "execution_count": 3,
   "id": "e1609b47-8ddb-4b22-8e90-410e63d187a3",
   "metadata": {},
   "outputs": [],
   "source": [
    "l=[1,2,3,\"COOL\",5.555,'pwskills']"
   ]
  },
  {
   "cell_type": "code",
   "execution_count": 4,
   "id": "f04bb442-4118-4746-9f18-b168d419d4cf",
   "metadata": {},
   "outputs": [
    {
     "data": {
      "text/plain": [
       "list"
      ]
     },
     "execution_count": 4,
     "metadata": {},
     "output_type": "execute_result"
    }
   ],
   "source": [
    "type(l)"
   ]
  },
  {
   "cell_type": "markdown",
   "id": "48cf498a-ab9e-44f7-8698-beb9d2ce814f",
   "metadata": {},
   "source": [
    "(iii)float"
   ]
  },
  {
   "cell_type": "code",
   "execution_count": 5,
   "id": "d3ba19e0-57f9-4155-a443-93dfb5fe4645",
   "metadata": {},
   "outputs": [],
   "source": [
    "c=7.989"
   ]
  },
  {
   "cell_type": "code",
   "execution_count": 6,
   "id": "9ba990ad-9ad3-41c1-9567-41de31dfdde6",
   "metadata": {},
   "outputs": [
    {
     "data": {
      "text/plain": [
       "float"
      ]
     },
     "execution_count": 6,
     "metadata": {},
     "output_type": "execute_result"
    }
   ],
   "source": [
    "type(c)"
   ]
  },
  {
   "cell_type": "markdown",
   "id": "f3aae820-5e2a-40c3-bfb4-540e21f7d09a",
   "metadata": {},
   "source": [
    "(iv)tuple"
   ]
  },
  {
   "cell_type": "code",
   "execution_count": 7,
   "id": "869e2238-6256-4555-8758-7b6f51cea481",
   "metadata": {},
   "outputs": [],
   "source": [
    "Tup = ('a','bcd',989,2.345)"
   ]
  },
  {
   "cell_type": "code",
   "execution_count": 8,
   "id": "d190cc34-7ef9-4084-8d1e-45c5900b3c9a",
   "metadata": {},
   "outputs": [
    {
     "name": "stdout",
     "output_type": "stream",
     "text": [
      "a\n"
     ]
    }
   ],
   "source": [
    "print(Tup[0])   #Print first element of tuple"
   ]
  },
  {
   "cell_type": "markdown",
   "id": "ea6ea5ab-0a0b-47f4-a109-e3f7d82f58cb",
   "metadata": {},
   "source": [
    "Q2-Data type of the given variables."
   ]
  },
  {
   "cell_type": "code",
   "execution_count": 14,
   "id": "3986edac-5026-4dff-b249-347bae1d5509",
   "metadata": {},
   "outputs": [],
   "source": [
    "var1=''"
   ]
  },
  {
   "cell_type": "code",
   "execution_count": 10,
   "id": "d303d546-8a21-40ab-96f0-f1d714a441b7",
   "metadata": {},
   "outputs": [
    {
     "data": {
      "text/plain": [
       "str"
      ]
     },
     "execution_count": 10,
     "metadata": {},
     "output_type": "execute_result"
    }
   ],
   "source": [
    "type(var1)"
   ]
  },
  {
   "cell_type": "markdown",
   "id": "824f157b-d3bc-4378-9292-f6544303fa0e",
   "metadata": {},
   "source": [
    "(ii)var2='[DS,ML,Python]'"
   ]
  },
  {
   "cell_type": "code",
   "execution_count": 12,
   "id": "a24f6bb9-1f96-4545-9a5c-b0414f622de3",
   "metadata": {},
   "outputs": [],
   "source": [
    "var2='[DS,ML,Python]'"
   ]
  },
  {
   "cell_type": "code",
   "execution_count": 13,
   "id": "094c0807-e1b2-4de4-b73e-45a27959aa36",
   "metadata": {},
   "outputs": [
    {
     "data": {
      "text/plain": [
       "str"
      ]
     },
     "execution_count": 13,
     "metadata": {},
     "output_type": "execute_result"
    }
   ],
   "source": [
    "type(var2)"
   ]
  },
  {
   "cell_type": "markdown",
   "id": "37a3af79-7bc9-45c4-860c-3d58c2e28b10",
   "metadata": {},
   "source": [
    "(iii)var3=['DS','ML','Python']"
   ]
  },
  {
   "cell_type": "code",
   "execution_count": 15,
   "id": "12a0ae37-8eb6-44f4-ba5d-57c8e64fdc17",
   "metadata": {},
   "outputs": [],
   "source": [
    "var3=['DS','ML','Python']"
   ]
  },
  {
   "cell_type": "code",
   "execution_count": 16,
   "id": "3e269196-1390-47df-903b-f2c2a8189d59",
   "metadata": {},
   "outputs": [
    {
     "data": {
      "text/plain": [
       "list"
      ]
     },
     "execution_count": 16,
     "metadata": {},
     "output_type": "execute_result"
    }
   ],
   "source": [
    "type(var3)"
   ]
  },
  {
   "cell_type": "markdown",
   "id": "2a6394ce-6fe6-4bd0-89bb-a6c8508dd5d5",
   "metadata": {},
   "source": [
    "(iv)var4=1"
   ]
  },
  {
   "cell_type": "code",
   "execution_count": 17,
   "id": "909cd763-5d4b-42cb-883c-dae16ffe3c08",
   "metadata": {},
   "outputs": [],
   "source": [
    "var4=1"
   ]
  },
  {
   "cell_type": "code",
   "execution_count": 18,
   "id": "349c4cde-29d9-46b8-9cbc-f42a73cc25a5",
   "metadata": {},
   "outputs": [
    {
     "data": {
      "text/plain": [
       "int"
      ]
     },
     "execution_count": 18,
     "metadata": {},
     "output_type": "execute_result"
    }
   ],
   "source": [
    "type(var4)"
   ]
  },
  {
   "cell_type": "markdown",
   "id": "7e5f5b09-e4e0-4bbd-819d-72101862467c",
   "metadata": {},
   "source": [
    "Q3-Explain the use of the following operators using an example:"
   ]
  },
  {
   "cell_type": "markdown",
   "id": "1aa6b867-a072-45f6-bdc3-3b355b66a9af",
   "metadata": {},
   "source": [
    "(i) / - It is the assignment operator.\n",
    "It divides operand on the left side of the operator with the operand on its right.This division operator returns the quotient."
   ]
  },
  {
   "cell_type": "code",
   "execution_count": 20,
   "id": "cfb884c5-867e-4421-8e46-75aa2a5f21cb",
   "metadata": {},
   "outputs": [
    {
     "name": "stdout",
     "output_type": "stream",
     "text": [
      "2.0\n"
     ]
    }
   ],
   "source": [
    "a=10\n",
    "b=5\n",
    "print(a/b)"
   ]
  },
  {
   "cell_type": "markdown",
   "id": "58080c6b-ac7d-42e4-bac8-5f79d5b29a1e",
   "metadata": {},
   "source": [
    "(ii) % - This is the modulus operator it also work as same as division operator but it gives the remainder"
   ]
  },
  {
   "cell_type": "code",
   "execution_count": 22,
   "id": "ecb14cea-d97c-4673-9da5-a4b69ec31418",
   "metadata": {},
   "outputs": [
    {
     "name": "stdout",
     "output_type": "stream",
     "text": [
      "0\n"
     ]
    }
   ],
   "source": [
    "a=10\n",
    "b=5\n",
    "print(a%b)"
   ]
  },
  {
   "cell_type": "markdown",
   "id": "5c2124ee-ccad-4d9f-9108-a082fefaac8b",
   "metadata": {},
   "source": [
    "(iii) // - This is the floor division operator.It divides the operands and returns the quotient.It also removes the digits after the decimal point.If one of the operands is negative,the result is floored(i.e., rounded away from zero towards negative infinity)."
   ]
  },
  {
   "cell_type": "code",
   "execution_count": 23,
   "id": "ffe48fab-f760-4ba1-bfe7-83f58859e8b1",
   "metadata": {},
   "outputs": [
    {
     "name": "stdout",
     "output_type": "stream",
     "text": [
      "2\n",
      "2.0\n",
      "-4\n",
      "-7.0\n"
     ]
    }
   ],
   "source": [
    "print(12//5)\n",
    "print(12.0//5.0)\n",
    "print(-19//5)\n",
    "print(-20.0//3)"
   ]
  },
  {
   "cell_type": "markdown",
   "id": "4732abaa-8dd8-4576-bf47-d231e6b909dc",
   "metadata": {},
   "source": [
    "(iv) ** - This is the exponent operator. It\n",
    "performs exponential calculation."
   ]
  },
  {
   "cell_type": "code",
   "execution_count": 24,
   "id": "53a35d92-d993-4c9d-9d09-a770928bddc7",
   "metadata": {},
   "outputs": [
    {
     "name": "stdout",
     "output_type": "stream",
     "text": [
      "8\n"
     ]
    }
   ],
   "source": [
    "print(2**3)"
   ]
  },
  {
   "cell_type": "markdown",
   "id": "ed8d42b2-37f6-472d-89b3-81ead581fcae",
   "metadata": {},
   "source": [
    "Q4. Create a list of length 10 of your choice containing multiple types of data. Using for loop print the\n",
    "element and its data type.\n",
    "\n"
   ]
  },
  {
   "cell_type": "code",
   "execution_count": 25,
   "id": "4c0e6341-ad49-4781-826f-b00b3ae63c57",
   "metadata": {},
   "outputs": [],
   "source": [
    "list=[1,2,3,4.5,6.5,7.8,'COOL',\"Eshant\",'pw skills',123456]"
   ]
  },
  {
   "cell_type": "code",
   "execution_count": 27,
   "id": "def2ffac-e5af-4d59-8842-daae4067ef17",
   "metadata": {},
   "outputs": [
    {
     "name": "stdout",
     "output_type": "stream",
     "text": [
      "1\n",
      "<class 'int'>\n",
      "2\n",
      "<class 'int'>\n",
      "3\n",
      "<class 'int'>\n",
      "4.5\n",
      "<class 'float'>\n",
      "6.5\n",
      "<class 'float'>\n",
      "7.8\n",
      "<class 'float'>\n",
      "COOL\n",
      "<class 'str'>\n",
      "Eshant\n",
      "<class 'str'>\n",
      "pw skills\n",
      "<class 'str'>\n",
      "123456\n",
      "<class 'int'>\n"
     ]
    }
   ],
   "source": [
    "for i in list:\n",
    "    print(i)\n",
    "    print(type(i))"
   ]
  },
  {
   "cell_type": "markdown",
   "id": "a4f8517b-379c-4482-a608-f4025bee47e4",
   "metadata": {},
   "source": [
    "Q5. Using a while loop, verify if the number A is purely divisible by number B and if so then how many\n",
    "times it can be divisible.\n",
    "\n"
   ]
  },
  {
   "cell_type": "code",
   "execution_count": null,
   "id": "b3a509b5-daec-4ed5-8643-db7200ddeab1",
   "metadata": {},
   "outputs": [],
   "source": [
    "A = int(input(\"Enter the number A: \"))\n",
    "B = int(input(\"Enter the number B:\"))\n",
    "\n",
    "count = 0\n",
    "\n",
    "while A % B == 0:\n",
    "    A = A / B\n",
    "    count += 1\n",
    "\n",
    "if A == 1:\n",
    "    print(f\"{A} is purely divisible by {B}, and it can be divided {count} times.\")\n",
    "else:\n",
    "    print(f\"{A} is not purely divisible by {B}.\")"
   ]
  },
  {
   "cell_type": "markdown",
   "id": "b10988f7-7fb5-400e-b7a6-5f7a20db0c8f",
   "metadata": {},
   "source": [
    "Q6. Create a list containing 25 int type data. Using for loop and if-else condition print if the element is\n",
    "divisible by 3 or not.\n",
    "\n",
    "\n"
   ]
  },
  {
   "cell_type": "code",
   "execution_count": null,
   "id": "52cfba46-09f0-4641-949a-08a7d3df7e6a",
   "metadata": {},
   "outputs": [],
   "source": [
    "l=[3,6,9,12,13,15,14,18,21,25,24,30,33,34,35,40,42,45,60,55,123,1234,65,45,67]\n",
    "for i in l:\n",
    "    if(i % 3 == 0):\n",
    "        print(\"yes it is divisble by 3\")\n",
    "    else:\n",
    "        print(\"It is not divivsible by 3\")"
   ]
  },
  {
   "cell_type": "markdown",
   "id": "d28b941b-e170-4b4a-8f18-653018469202",
   "metadata": {},
   "source": [
    "Q7. What do you understand about mutable and immutable data types? Give examples for both showing\n",
    "this property.\n"
   ]
  },
  {
   "cell_type": "markdown",
   "id": "4e4865fd-ab02-4573-aa52-8e1a58ef44b7",
   "metadata": {},
   "source": [
    "Mutable data types: Those datatypes whose values we can change after they are created.\n",
    "example: List-We can add,remove, modify elements in the list by indexing.\n"
   ]
  },
  {
   "cell_type": "code",
   "execution_count": 3,
   "id": "3f9d82ab-0c38-49ca-b71c-913444f2712e",
   "metadata": {},
   "outputs": [],
   "source": [
    "l=[1,2,3]\n"
   ]
  },
  {
   "cell_type": "code",
   "execution_count": 4,
   "id": "02c7ea2d-1b32-4071-8a30-95b748bb485b",
   "metadata": {},
   "outputs": [
    {
     "data": {
      "text/plain": [
       "1"
      ]
     },
     "execution_count": 4,
     "metadata": {},
     "output_type": "execute_result"
    }
   ],
   "source": [
    "l[0]"
   ]
  },
  {
   "cell_type": "code",
   "execution_count": 6,
   "id": "10062aa5-f0dc-4629-a074-67ffd3d4824c",
   "metadata": {},
   "outputs": [],
   "source": [
    "l[0]=10"
   ]
  },
  {
   "cell_type": "code",
   "execution_count": 7,
   "id": "21c93e87-0355-4123-831f-87397bc41b7d",
   "metadata": {},
   "outputs": [
    {
     "data": {
      "text/plain": [
       "10"
      ]
     },
     "execution_count": 7,
     "metadata": {},
     "output_type": "execute_result"
    }
   ],
   "source": [
    "l[0]\n"
   ]
  },
  {
   "cell_type": "markdown",
   "id": "74de8a30-2d81-422e-b412-53f6f9b9e696",
   "metadata": {},
   "source": [
    "Immutable Data types:These are the datatypes whose values cannot be changes once they are created.\n",
    "example:string,integer values."
   ]
  },
  {
   "cell_type": "code",
   "execution_count": 8,
   "id": "c3d77a3c-fbce-40a0-8119-13aeb08a6ea0",
   "metadata": {},
   "outputs": [],
   "source": [
    "s = \"COOL\""
   ]
  },
  {
   "cell_type": "code",
   "execution_count": 9,
   "id": "9b33fef5-7d96-4735-9d78-dbbfaa98aa17",
   "metadata": {},
   "outputs": [
    {
     "data": {
      "text/plain": [
       "'O'"
      ]
     },
     "execution_count": 9,
     "metadata": {},
     "output_type": "execute_result"
    }
   ],
   "source": [
    "s[2]"
   ]
  },
  {
   "cell_type": "code",
   "execution_count": 10,
   "id": "84f34236-9cce-416e-8269-143dfa1157d4",
   "metadata": {},
   "outputs": [
    {
     "ename": "TypeError",
     "evalue": "'str' object does not support item assignment",
     "output_type": "error",
     "traceback": [
      "\u001b[0;31m---------------------------------------------------------------------------\u001b[0m",
      "\u001b[0;31mTypeError\u001b[0m                                 Traceback (most recent call last)",
      "Cell \u001b[0;32mIn[10], line 1\u001b[0m\n\u001b[0;32m----> 1\u001b[0m \u001b[43ms\u001b[49m\u001b[43m[\u001b[49m\u001b[38;5;241;43m2\u001b[39;49m\u001b[43m]\u001b[49m\u001b[38;5;241m=\u001b[39m\u001b[38;5;124m'\u001b[39m\u001b[38;5;124mD\u001b[39m\u001b[38;5;124m'\u001b[39m\n",
      "\u001b[0;31mTypeError\u001b[0m: 'str' object does not support item assignment"
     ]
    }
   ],
   "source": [
    "s[2]='D'"
   ]
  },
  {
   "cell_type": "code",
   "execution_count": null,
   "id": "8a6468dc-5940-4a69-895b-4f1dad03645a",
   "metadata": {},
   "outputs": [],
   "source": [
    "#there you can that compiler gives errror when we are changing the values of s[2] index because string is the immutable"
   ]
  }
 ],
 "metadata": {
  "kernelspec": {
   "display_name": "Python 3 (ipykernel)",
   "language": "python",
   "name": "python3"
  },
  "language_info": {
   "codemirror_mode": {
    "name": "ipython",
    "version": 3
   },
   "file_extension": ".py",
   "mimetype": "text/x-python",
   "name": "python",
   "nbconvert_exporter": "python",
   "pygments_lexer": "ipython3",
   "version": "3.10.8"
  }
 },
 "nbformat": 4,
 "nbformat_minor": 5
}
